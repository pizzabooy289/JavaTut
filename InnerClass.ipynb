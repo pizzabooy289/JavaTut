{
 "cells": [
  {
   "cell_type": "markdown",
   "id": "3612e3bd",
   "metadata": {},
   "source": [
    "# Java Inner Classes"
   ]
  },
  {
   "cell_type": "markdown",
   "id": "aee5d0a6",
   "metadata": {},
   "source": [
    "In Java, it is also possible to nest classes (a class within a class). The purpose of nested classes is to group classes that belong together, which makes your code more readable and maintainable.\n",
    "\n",
    "To access the inner class, create an object of the outer class, and then create an object of the inner class:"
   ]
  },
  {
   "cell_type": "code",
   "execution_count": 2,
   "id": "2829d637",
   "metadata": {},
   "outputs": [],
   "source": [
    "class OuterClass {\n",
    "  int x = 10;\n",
    "\n",
    "  class InnerClass {\n",
    "    int y = 5;\n",
    "  }\n",
    "}"
   ]
  },
  {
   "cell_type": "markdown",
   "id": "acf90bc8",
   "metadata": {},
   "source": [
    "Instantiate the Outer Class"
   ]
  },
  {
   "cell_type": "code",
   "execution_count": 3,
   "id": "0559d05b",
   "metadata": {},
   "outputs": [],
   "source": [
    "OuterClass myOuter = new OuterClass();"
   ]
  },
  {
   "cell_type": "markdown",
   "id": "06cd2b8c",
   "metadata": {},
   "source": [
    "Instantiate the Inner Class"
   ]
  },
  {
   "cell_type": "code",
   "execution_count": 5,
   "id": "da8279dc",
   "metadata": {},
   "outputs": [],
   "source": [
    "OuterClass.InnerClass myInner = myOuter.new InnerClass();"
   ]
  },
  {
   "cell_type": "markdown",
   "id": "a61b03b2",
   "metadata": {},
   "source": [
    "Using the Outer Class"
   ]
  },
  {
   "cell_type": "code",
   "execution_count": 6,
   "id": "0595f24e",
   "metadata": {},
   "outputs": [
    {
     "name": "stdout",
     "output_type": "stream",
     "text": [
      " Outer Class Variable Value: 10\n"
     ]
    }
   ],
   "source": [
    "System.out.println(\" Outer Class Variable Value: \" + myOuter.x);"
   ]
  },
  {
   "cell_type": "markdown",
   "id": "e642e6d7",
   "metadata": {},
   "source": [
    "Using the Inner Class"
   ]
  },
  {
   "cell_type": "code",
   "execution_count": 8,
   "id": "fb024215",
   "metadata": {},
   "outputs": [
    {
     "name": "stdout",
     "output_type": "stream",
     "text": [
      " Inner Class Variable Value: 5\n"
     ]
    }
   ],
   "source": [
    "System.out.println(\" Inner Class Variable Value: \" + myInner.y);"
   ]
  }
 ],
 "metadata": {
  "kernelspec": {
   "display_name": "Java",
   "language": "java",
   "name": "java"
  },
  "language_info": {
   "codemirror_mode": "java",
   "file_extension": ".jshell",
   "mimetype": "text/x-java-source",
   "name": "Java",
   "pygments_lexer": "java",
   "version": "12.0.2+10"
  }
 },
 "nbformat": 4,
 "nbformat_minor": 5
}
