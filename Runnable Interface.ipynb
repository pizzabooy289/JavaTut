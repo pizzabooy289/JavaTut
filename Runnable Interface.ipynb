{
 "cells": [
  {
   "cell_type": "markdown",
   "id": "f21ad1b9",
   "metadata": {},
   "source": [
    "# [Runnable Interface](https://docs.oracle.com/javase/7/docs/api/java/lang/Runnable.html)"
   ]
  },
  {
   "cell_type": "markdown",
   "id": "bf11f1c7",
   "metadata": {},
   "source": [
    "### Why use Runnable"
   ]
  },
  {
   "cell_type": "markdown",
   "id": "e02bb621",
   "metadata": {},
   "source": [
    "Although you have the ability to create new threads by using just the Thread class, which by itself implements the Runnable interface, the suggested and much more accepted approach is to use Runnable for all the logic that we want to provide for our threads. There are certain reasons for that:"
   ]
  },
  {
   "cell_type": "markdown",
   "id": "9d1f9aed",
   "metadata": {},
   "source": [
    "* <b>Modularity:</b> When you run a thread and it finishes running, there is no way to restart it. This could lead to a lot of code duplication in case of multithreading, where you need a certain task to run a number of times. Fortunately, you can create a Runnable instance which can be reused in any number of threads.    \n",
    "\n",
    "\n",
    "* <b>Ease of use:</b> Runnable only has one method, public void run(). It accepts no arguments and is as simple as possible. Thread has many methods that need to be taken into account making it very cumbersome to work with, and the extra overhead is always an issue.                 \n",
    "\n",
    "\n",
    "* <b>Inheritance:</b> More often than not, you will have to use additional classes (through inheritance) to extend the functionality of your Runnable object. Java does not support multiple inheritance, so it is much more convenient to create a new class which just implements Runnable (and allows to extend another class) than creating a new class that extends Thread and prevents you from inheriting anything else.     "
   ]
  },
  {
   "cell_type": "markdown",
   "id": "a7c88161",
   "metadata": {},
   "source": [
    "### Using External Variables in Inner Class"
   ]
  },
  {
   "cell_type": "code",
   "execution_count": 1,
   "id": "4782e35b",
   "metadata": {},
   "outputs": [],
   "source": [
    "String sentence = \"This is Anonymous Runnable class which is replaced by Lambda Expression !!\";"
   ]
  },
  {
   "cell_type": "markdown",
   "id": "0c70bc70",
   "metadata": {},
   "source": [
    "The below <b>runAnonymous</b> class has access to the <b>sentence</b> variables which is not property in the class. "
   ]
  },
  {
   "cell_type": "code",
   "execution_count": 2,
   "id": "01dbe917",
   "metadata": {},
   "outputs": [],
   "source": [
    "Runnable runAnonymous = new Runnable(){\n",
    "\n",
    "    @Override\n",
    "    public void run() {\n",
    "            System.out.println(sentence);\n",
    "    }\n",
    "};"
   ]
  },
  {
   "cell_type": "code",
   "execution_count": 3,
   "id": "2313cdbf",
   "metadata": {},
   "outputs": [
    {
     "name": "stdout",
     "output_type": "stream",
     "text": [
      "This is Anonymous Runnable class which is replaced by Lambda Expression !!\r\n"
     ]
    }
   ],
   "source": [
    "runAnonymous.run();"
   ]
  },
  {
   "cell_type": "markdown",
   "id": "e1fbc561",
   "metadata": {},
   "source": [
    "### Using External Variables in Lamdba Expression"
   ]
  },
  {
   "cell_type": "code",
   "execution_count": 4,
   "id": "3f2818b6",
   "metadata": {},
   "outputs": [],
   "source": [
    "String otherSentence = \"This is Runnable Lambda !\""
   ]
  },
  {
   "cell_type": "code",
   "execution_count": 5,
   "id": "67b724a8",
   "metadata": {},
   "outputs": [],
   "source": [
    "Runnable runLambda = () -> { \n",
    "        System.out.println(otherSentence); \n",
    "};"
   ]
  },
  {
   "cell_type": "code",
   "execution_count": 6,
   "id": "95b672c3",
   "metadata": {},
   "outputs": [
    {
     "name": "stdout",
     "output_type": "stream",
     "text": [
      "This is Runnable Lambda !\r\n"
     ]
    }
   ],
   "source": [
    "runLambda.run();"
   ]
  },
  {
   "cell_type": "markdown",
   "id": "1ce2cf8a",
   "metadata": {},
   "source": [
    "### Runnables and Threads"
   ]
  },
  {
   "cell_type": "markdown",
   "id": "549f795c",
   "metadata": {},
   "source": [
    "Let’s start by talking about a very common confusion in Java. Runnables are NOT Threads. The Runnable interface is used to define a certain task that we want to execute, and the whole implementation of this task is inside its only method, run() (which accepts no arguments). The Runnable class by itself does not create a separate thread, because this is what Thread actually does.\n",
    "\n",
    "Thread is used to create a new execution path (a new thread), separate from the main program. By providing a Runnable as an argument to a Thread constructor, you are essentially giving access of the Runnable’s task (defined in the run() method), to a new Thread object. At any time during your program, you can start the new thread, by using Thread.start() and the Runnable’s code will start running."
   ]
  },
  {
   "cell_type": "markdown",
   "id": "9bf6e7a3",
   "metadata": {},
   "source": [
    "### Runnable implementation"
   ]
  },
  {
   "cell_type": "markdown",
   "id": "07548188",
   "metadata": {},
   "source": [
    "There are two ways to implement a Runnable in Java. Let’s take a quick look into them:"
   ]
  },
  {
   "cell_type": "markdown",
   "id": "244d67c8",
   "metadata": {},
   "source": [
    "* <b> Inheritance:</b> You can create a class which implements the Runnable interface. You will be forced to implement the run() method, which contains the logic/code of the task, and instantiate it in the standard Java way. You can use pass this as an argument to a Thread instance, as explained above.\n",
    "\n",
    "\n",
    "* <b> Anonymous inner class:</b>  In some cases you need to run a small snippet of only a few lines of code. In that case, you can always create a new anonymous inner class inside the Thread constructor and implement the run() method there as well. This is of course not modular, and you cannot reuse that code.    "
   ]
  },
  {
   "cell_type": "markdown",
   "id": "01c5e37c",
   "metadata": {},
   "source": [
    "We are creating anew class that implements the Runnable interface,so we need to override and implement it's only method, run(). We are creating a simple loop which will run and allow us to take a look into how the different threads run."
   ]
  },
  {
   "cell_type": "markdown",
   "id": "21b51bf4",
   "metadata": {},
   "source": [
    "<b>Thread.currentThread().getName()</b> is used to get the name of the currently running thread. We can provide a name, if we create the thread ourselves, else it will be given one from the JVM."
   ]
  },
  {
   "cell_type": "code",
   "execution_count": 7,
   "id": "44d64079",
   "metadata": {},
   "outputs": [],
   "source": [
    "public class MyRunnableImplementation implements Runnable {\n",
    " \n",
    "    @Override\n",
    "    public void run() {\n",
    "\n",
    "        for (int i = 0; i < 5; i++) {\n",
    "             \n",
    "            System.out.println(Thread.currentThread().getName() +\n",
    "                    \"\\t with Runnable: MyRunnableImplementation runs...\" + i);\n",
    "        }\n",
    "    }\n",
    "}"
   ]
  },
  {
   "cell_type": "markdown",
   "id": "477d3591",
   "metadata": {},
   "source": [
    "Create a new instance of our class that implements the Runnable interface.This class can be provided as an argument to a Thread instance."
   ]
  },
  {
   "cell_type": "markdown",
   "id": "948b2fab",
   "metadata": {},
   "source": [
    "<b>Note:</b> Thread(Runnable target, String name) when target is the class to run and name is the name you give to the thread."
   ]
  },
  {
   "cell_type": "markdown",
   "id": "90119fe1",
   "metadata": {},
   "source": [
    "Create a new Thread instance, provide the task that we want to run(by providing the Runnable as an argument) and give the thread a name."
   ]
  },
  {
   "cell_type": "markdown",
   "id": "25783c89",
   "metadata": {},
   "source": [
    " Now we can use Thread.start() to run it!"
   ]
  },
  {
   "cell_type": "code",
   "execution_count": 16,
   "id": "5bfd3c23",
   "metadata": {},
   "outputs": [
    {
     "name": "stdout",
     "output_type": "stream",
     "text": [
      "Thread 3\t with Runnable: MyRunnableImplementation runs...0\r\n"
     ]
    }
   ],
   "source": [
    "MyRunnableImplementation r = new MyRunnableImplementation();\n",
    " Thread thread2 = new Thread(r, \"Thread 3\");\n",
    "thread2.start();"
   ]
  },
  {
   "cell_type": "markdown",
   "id": "6c4ac64f",
   "metadata": {},
   "source": [
    "Create a thread and provide the Runnable argument as an anonymous inner class.Since we are creating the class \"on the spot\", we need to provide the implementationof the run() method here."
   ]
  },
  {
   "cell_type": "code",
   "execution_count": 20,
   "id": "f3a14758",
   "metadata": {},
   "outputs": [],
   "source": [
    " Thread thread3 = new Thread(new Runnable() {\n",
    "            @Override\n",
    "            public void run() {\n",
    "                 \n",
    "                // We are doing the same thing as with the MyRunnableImplementation class\n",
    "                for (int i = 0; i < 5; i++) {\n",
    "                    System.out.println(Thread.currentThread().getName() +\n",
    "                            \"\\twith Runnable: Inner class Runnable runs...\" + i);\n",
    "                }\n",
    "            }\n",
    "}, \"Thread 2\");\n",
    "      "
   ]
  },
  {
   "cell_type": "code",
   "execution_count": 21,
   "id": "de963add",
   "metadata": {},
   "outputs": [
    {
     "name": "stdout",
     "output_type": "stream",
     "text": [
      "Thread 2\twith Runnable: Inner class Runnable runs...0\r\n"
     ]
    }
   ],
   "source": [
    "  thread3.start();"
   ]
  },
  {
   "cell_type": "code",
   "execution_count": null,
   "id": "a546e40d",
   "metadata": {},
   "outputs": [],
   "source": []
  }
 ],
 "metadata": {
  "kernelspec": {
   "display_name": "Java",
   "language": "java",
   "name": "java"
  },
  "language_info": {
   "codemirror_mode": "java",
   "file_extension": ".jshell",
   "mimetype": "text/x-java-source",
   "name": "Java",
   "pygments_lexer": "java",
   "version": "12.0.2+10"
  }
 },
 "nbformat": 4,
 "nbformat_minor": 5
}
