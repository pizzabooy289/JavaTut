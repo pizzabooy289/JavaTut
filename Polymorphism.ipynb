{
 "cells": [
  {
   "cell_type": "code",
   "execution_count": 1,
   "metadata": {},
   "outputs": [],
   "source": [
    "public class Employee {\n",
    "    private String name;\n",
    "    private String address;\n",
    "    private int number;\n",
    "\n",
    "    public Employee(String name, String address, int number) {\n",
    "        System.out.println(\"Constructing an Employee\");\n",
    "        this.name = name;\n",
    "        this.address = address;\n",
    "        this.number = number;\n",
    "   }\n",
    "\n",
    "   public void mailCheck() {\n",
    "      System.out.println(\"Mailing a check to \" + this.name + \" \" + this.address);\n",
    "   }\n",
    "\n",
    "   public String toString() {return name + \" \" + address + \" \" + number;}\n",
    "\n",
    "   public String getName() {return name;}\n",
    "   public int getNumber() {return number;}\n",
    "\n",
    "   public String getAddress() {return address;}\n",
    "   public void setAddress(String newAddress) {address = newAddress;}\n",
    "\n",
    "}"
   ]
  },
  {
   "cell_type": "code",
   "execution_count": 2,
   "metadata": {},
   "outputs": [],
   "source": [
    "public class Salary extends Employee {\n",
    "    private double salary; // Annual salary\n",
    " \n",
    "    public Salary(String name, String address, int number, double salary) {\n",
    "        super(name, address, number);\n",
    "        setSalary(salary);\n",
    "   }\n",
    "   \n",
    "   public void mailCheck() {\n",
    "      System.out.println(\"Within mailCheck of Salary class \");\n",
    "      System.out.println(\"Mailing check to \" + getName() + \" with salary \" + salary);\n",
    "   }\n",
    "   \n",
    "  public double computePay() {\n",
    "      System.out.println(\"Computing salary pay for \" + getName());\n",
    "      return salary/52;\n",
    "   }\n",
    "   \n",
    "   public double getSalary() {return salary;}\n",
    "   public void setSalary(double newSalary) {\n",
    "      if(newSalary >= 0.0) {\n",
    "         salary = newSalary;\n",
    "      }\n",
    "   }\n",
    "}\n"
   ]
  },
  {
   "cell_type": "code",
   "execution_count": 4,
   "metadata": {},
   "outputs": [
    {
     "name": "stdout",
     "output_type": "stream",
     "text": [
      "Constructing an Employee\r\n"
     ]
    }
   ],
   "source": [
    "Salary s = new Salary(\"Mohd Mohtashim\", \"Ambehta, UP\", 3, 3600.00);"
   ]
  },
  {
   "cell_type": "code",
   "execution_count": 5,
   "metadata": {},
   "outputs": [
    {
     "name": "stdout",
     "output_type": "stream",
     "text": [
      "Constructing an Employee\r\n"
     ]
    }
   ],
   "source": [
    "Employee e = new Salary(\"John Adams\", \"Boston, MA\", 2, 2400.00);"
   ]
  },
  {
   "cell_type": "markdown",
   "metadata": {},
   "source": [
    "Call mailCheck using Salary reference"
   ]
  },
  {
   "cell_type": "code",
   "execution_count": 6,
   "metadata": {},
   "outputs": [
    {
     "name": "stdout",
     "output_type": "stream",
     "text": [
      "Within mailCheck of Salary class \n",
      "Mailing check to Mohd Mohtashim with salary 3600.0\n"
     ]
    }
   ],
   "source": [
    "s.mailCheck();"
   ]
  },
  {
   "cell_type": "markdown",
   "metadata": {},
   "source": [
    "Call mailCheck using Employee reference"
   ]
  },
  {
   "cell_type": "code",
   "execution_count": 8,
   "metadata": {},
   "outputs": [
    {
     "name": "stdout",
     "output_type": "stream",
     "text": [
      "Within mailCheck of Salary class \n",
      "Mailing check to John Adams with salary 2400.0\n"
     ]
    }
   ],
   "source": [
    "e.mailCheck();"
   ]
  }
 ],
 "metadata": {
  "kernelspec": {
   "display_name": "Java",
   "language": "java",
   "name": "java"
  },
  "language_info": {
   "codemirror_mode": "java",
   "file_extension": ".jshell",
   "mimetype": "text/x-java-source",
   "name": "Java",
   "pygments_lexer": "java",
   "version": "18.0.1+10-24"
  }
 },
 "nbformat": 4,
 "nbformat_minor": 4
}
