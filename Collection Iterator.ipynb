{
 "cells": [
  {
   "cell_type": "markdown",
   "metadata": {},
   "source": [
    "# Collection Iterator"
   ]
  },
  {
   "cell_type": "markdown",
   "metadata": {},
   "source": [
    "An Iterator is an object that can be used to loop through collections, like ArrayList and HashSet. It is called an \"iterator\" because \"iterating\" is the technical term for looping. To use an Iterator, you must import it from the java. util package."
   ]
  },
  {
   "cell_type": "markdown",
   "metadata": {},
   "source": [
    "# Iterator"
   ]
  },
  {
   "cell_type": "markdown",
   "metadata": {},
   "source": [
    "#### Popular the Array List Collection"
   ]
  },
  {
   "cell_type": "code",
   "execution_count": 45,
   "metadata": {},
   "outputs": [
    {
     "data": {
      "text/plain": [
       "true"
      ]
     },
     "execution_count": 45,
     "metadata": {},
     "output_type": "execute_result"
    }
   ],
   "source": [
    "ArrayList<String> bandMembers =new ArrayList<String>();\n",
    "\n",
    "bandMembers.add(\"Kurt Cobain\"); \n",
    "bandMembers.add(\"Dave Grohl\");  \n",
    "bandMembers.add(\"Krist Novoselic\");  \n",
    "bandMembers.add(\"Pat Smear\");  "
   ]
  },
  {
   "cell_type": "markdown",
   "metadata": {},
   "source": [
    "#### Getting the iterator"
   ]
  },
  {
   "cell_type": "markdown",
   "metadata": {},
   "source": [
    "Each time you uses an iterator you have to populate it from the collection"
   ]
  },
  {
   "cell_type": "code",
   "execution_count": 46,
   "metadata": {},
   "outputs": [],
   "source": [
    "Iterator<String> itr = bandMembers.iterator();  "
   ]
  },
  {
   "cell_type": "markdown",
   "metadata": {},
   "source": [
    "####  Using the iterator to print out the band members"
   ]
  },
  {
   "cell_type": "code",
   "execution_count": 47,
   "metadata": {},
   "outputs": [
    {
     "name": "stdout",
     "output_type": "stream",
     "text": [
      "Kurt Cobain\n",
      "Dave Grohl\n",
      "Krist Novoselic\n",
      "Pat Smear\n"
     ]
    }
   ],
   "source": [
    "while(itr.hasNext()){  \n",
    "     System.out.println(itr.next());  \n",
    " }"
   ]
  },
  {
   "cell_type": "markdown",
   "metadata": {},
   "source": [
    "# Removing Items from a Collection"
   ]
  },
  {
   "cell_type": "code",
   "execution_count": 48,
   "metadata": {},
   "outputs": [],
   "source": [
    "Iterator<String> itr = bandMembers.iterator(); "
   ]
  },
  {
   "cell_type": "code",
   "execution_count": 49,
   "metadata": {},
   "outputs": [
    {
     "name": "stdout",
     "output_type": "stream",
     "text": [
      "4\n"
     ]
    }
   ],
   "source": [
    "System.out.println(bandMembers.size() ) ;"
   ]
  },
  {
   "cell_type": "code",
   "execution_count": 50,
   "metadata": {},
   "outputs": [
    {
     "name": "stdout",
     "output_type": "stream",
     "text": [
      "Removing Pat Smear from the Collection\n"
     ]
    }
   ],
   "source": [
    "\n",
    "while(itr.hasNext()) {\n",
    "      String i = itr.next();\n",
    "     \n",
    "    //System.out.println( \"Items in the Collection is \" + i );\n",
    "      if( i.equals(\"Pat Smear\") )  {\n",
    "           System.out.println( \"Removing \" + i + \" from the Collection\");\n",
    "          \n",
    "           itr.remove();\n",
    "      }\n",
    "\n",
    "}"
   ]
  },
  {
   "cell_type": "code",
   "execution_count": 51,
   "metadata": {},
   "outputs": [
    {
     "name": "stdout",
     "output_type": "stream",
     "text": [
      "3\n"
     ]
    }
   ],
   "source": [
    "System.out.println(bandMembers.size() ) ;"
   ]
  },
  {
   "cell_type": "code",
   "execution_count": 53,
   "metadata": {},
   "outputs": [],
   "source": [
    "Iterator<String> itr = bandMembers.iterator(); "
   ]
  },
  {
   "cell_type": "markdown",
   "metadata": {},
   "source": [
    "####  Using the iterator to print out the band members"
   ]
  },
  {
   "cell_type": "code",
   "execution_count": 54,
   "metadata": {},
   "outputs": [
    {
     "name": "stdout",
     "output_type": "stream",
     "text": [
      "Kurt Cobain\n",
      "Dave Grohl\n",
      "Krist Novoselic\n"
     ]
    }
   ],
   "source": [
    "while(itr.hasNext()){  \n",
    "     System.out.println(itr.next());  \n",
    " }"
   ]
  },
  {
   "cell_type": "code",
   "execution_count": null,
   "metadata": {},
   "outputs": [],
   "source": []
  }
 ],
 "metadata": {
  "kernelspec": {
   "display_name": "Java",
   "language": "java",
   "name": "java"
  },
  "language_info": {
   "codemirror_mode": "java",
   "file_extension": ".jshell",
   "mimetype": "text/x-java-source",
   "name": "Java",
   "pygments_lexer": "java",
   "version": "18.0.1+10-24"
  }
 },
 "nbformat": 4,
 "nbformat_minor": 5
}
