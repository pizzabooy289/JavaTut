{
 "cells": [
  {
   "cell_type": "code",
   "execution_count": 9,
   "id": "4f9452a0",
   "metadata": {},
   "outputs": [],
   "source": [
    "import java.time.LocalDate;\n",
    "import java.time.LocalTime;\n",
    "import java.time.LocalDateTime;\n",
    "import java.time.Month;\n",
    "import java.time.ZoneId;\n",
    "import java.time.ZonedDateTime;\n",
    "import java.time.format.DateTimeFormatter;\n",
    "import java.time.temporal.ChronoField;\n",
    "import java.time.ZoneId;\n",
    "import java.util.TimeZone;"
   ]
  },
  {
   "cell_type": "markdown",
   "id": "4b71b433",
   "metadata": {},
   "source": [
    "# Formatters"
   ]
  },
  {
   "cell_type": "code",
   "execution_count": 10,
   "id": "2ce9b9ea",
   "metadata": {},
   "outputs": [],
   "source": [
    "DateTimeFormatter stf_date = DateTimeFormatter.ofPattern(\"MM/dd/yyyy\");\n",
    "DateTimeFormatter stf_date_time = DateTimeFormatter.ofPattern(\"yyyy-MM-dd HH:mm:ss\");"
   ]
  },
  {
   "cell_type": "markdown",
   "id": "3c3f8367",
   "metadata": {},
   "source": [
    "# Initialization "
   ]
  },
  {
   "cell_type": "code",
   "execution_count": 3,
   "id": "1552bae1",
   "metadata": {},
   "outputs": [
    {
     "name": "stdout",
     "output_type": "stream",
     "text": [
      "Date of the wedding: 02/22/2017\n"
     ]
    }
   ],
   "source": [
    "LocalDate wedding_date = LocalDate.of(2017, Month.FEBRUARY, 22);\n",
    "System.out.println(\"Date of the wedding: \" + wedding_date .format(stf_date)) ;"
   ]
  },
  {
   "cell_type": "code",
   "execution_count": 4,
   "id": "c6e902af",
   "metadata": {},
   "outputs": [
    {
     "name": "stdout",
     "output_type": "stream",
     "text": [
      "Time of the wedding: 13:15\n"
     ]
    }
   ],
   "source": [
    "LocalTime wedding_time = LocalTime.of(13, 15);\n",
    "System.out.println(\"Time of the wedding: \" + wedding_time);"
   ]
  },
  {
   "cell_type": "markdown",
   "id": "1d12a35f",
   "metadata": {},
   "source": [
    "# Adding Six Months"
   ]
  },
  {
   "cell_type": "code",
   "execution_count": 5,
   "id": "9e6da81d",
   "metadata": {},
   "outputs": [
    {
     "name": "stdout",
     "output_type": "stream",
     "text": [
      "Six month anniversary date: 08/22/2017\n"
     ]
    }
   ],
   "source": [
    "LocalDate anniversary = wedding_date.plusMonths(6);\n",
    "System.out.println(\"Six month anniversary date: \" + anniversary.format(stf_date)) ;"
   ]
  },
  {
   "cell_type": "markdown",
   "id": "ba515ead",
   "metadata": {},
   "source": [
    "Check the between the Anniversary and Wedding"
   ]
  },
  {
   "cell_type": "code",
   "execution_count": 14,
   "id": "3a86f44a",
   "metadata": {},
   "outputs": [
    {
     "name": "stdout",
     "output_type": "stream",
     "text": [
      "Six month anniversary date and time:  2017-08-22 13:15:00\n"
     ]
    }
   ],
   "source": [
    "LocalDateTime celebrate = LocalDateTime.of(anniversary,wedding_time);\n",
    "System.out.println(\"Six month anniversary date and time:  \" + celebrate.format(stf_date_time)) ;"
   ]
  },
  {
   "cell_type": "markdown",
   "id": "92ade6f4",
   "metadata": {},
   "source": [
    "# Rescheduling the celebration"
   ]
  },
  {
   "cell_type": "code",
   "execution_count": 15,
   "id": "cfd6bc95",
   "metadata": {},
   "outputs": [
    {
     "name": "stdout",
     "output_type": "stream",
     "text": [
      "Reschedule date to the twenty fifty: 2017-08-25 13:15:00\n"
     ]
    }
   ],
   "source": [
    " LocalDateTime reschedule = celebrate.withDayOfMonth(25);\n",
    "System.out.println(\"Reschedule date to the twenty fifty: \" + reschedule.format(stf_date_time)) ;"
   ]
  },
  {
   "cell_type": "markdown",
   "id": "a34c104a",
   "metadata": {},
   "source": [
    "# Adding five years"
   ]
  },
  {
   "cell_type": "code",
   "execution_count": 16,
   "id": "036368bd",
   "metadata": {},
   "outputs": [],
   "source": [
    "LocalDateTime future_celebrate = celebrate.plusYears(5);"
   ]
  },
  {
   "cell_type": "markdown",
   "id": "5ba4978d",
   "metadata": {},
   "source": [
    "Get the value of the particular temporal field"
   ]
  },
  {
   "cell_type": "code",
   "execution_count": 17,
   "id": "7bdab970",
   "metadata": {},
   "outputs": [],
   "source": [
    "int future_celebrate_year = future_celebrate.get(ChronoField.YEAR);"
   ]
  },
  {
   "cell_type": "code",
   "execution_count": 18,
   "id": "8f103b0b",
   "metadata": {},
   "outputs": [
    {
     "name": "stdout",
     "output_type": "stream",
     "text": [
      "Five year celebration : 2022\n",
      "Five year celebration date: 2022-08-22 13:15:00\n"
     ]
    }
   ],
   "source": [
    "System.out.println(\"Five year celebration : \" + future_celebrate_year) ;\n",
    "System.out.println(\"Five year celebration date: \" + future_celebrate.format(stf_date_time)) ;"
   ]
  },
  {
   "cell_type": "markdown",
   "id": "793a49c2",
   "metadata": {},
   "source": [
    "# Time Zone "
   ]
  },
  {
   "cell_type": "markdown",
   "id": "59522020",
   "metadata": {},
   "source": [
    "Get the current date and time"
   ]
  },
  {
   "cell_type": "code",
   "execution_count": 20,
   "id": "4743139e",
   "metadata": {},
   "outputs": [
    {
     "name": "stdout",
     "output_type": "stream",
     "text": [
      "Location and time of the wedding in Japan is 2007-12-03T09:45:30+05:00[Asia/Karachi]\n"
     ]
    }
   ],
   "source": [
    "ZonedDateTime webbing_in_asia = ZonedDateTime.parse(\"2007-12-03T10:15:30+05:30[Asia/Karachi]\");\n",
    "System.out.println(\"Location and time of the wedding in Japan is \" + webbing_in_asia);"
   ]
  },
  {
   "cell_type": "markdown",
   "id": "831aeb78",
   "metadata": {},
   "source": [
    "# Get Time Zone Identification"
   ]
  },
  {
   "cell_type": "code",
   "execution_count": 21,
   "id": "bb64c305",
   "metadata": {},
   "outputs": [
    {
     "name": "stdout",
     "output_type": "stream",
     "text": [
      "ZoneId: Europe/Paris\n"
     ]
    }
   ],
   "source": [
    "ZoneId id = ZoneId.of(\"Europe/Paris\");\n",
    "System.out.println(\"ZoneId: \" + id);"
   ]
  },
  {
   "cell_type": "markdown",
   "id": "dd362602",
   "metadata": {},
   "source": [
    "# Get System Default Time"
   ]
  },
  {
   "cell_type": "code",
   "execution_count": 22,
   "id": "f20046dc",
   "metadata": {},
   "outputs": [
    {
     "name": "stdout",
     "output_type": "stream",
     "text": [
      "CurrentZone: America/La_Paz\n"
     ]
    }
   ],
   "source": [
    "ZoneId currentZone = ZoneId.systemDefault();\n",
    "System.out.println(\"CurrentZone: \" + currentZone);"
   ]
  }
 ],
 "metadata": {
  "kernelspec": {
   "display_name": "Java",
   "language": "java",
   "name": "java"
  },
  "language_info": {
   "codemirror_mode": "java",
   "file_extension": ".jshell",
   "mimetype": "text/x-java-source",
   "name": "Java",
   "pygments_lexer": "java",
   "version": "12.0.2+10"
  }
 },
 "nbformat": 4,
 "nbformat_minor": 5
}
