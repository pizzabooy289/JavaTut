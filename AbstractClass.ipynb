{
 "cells": [
  {
   "cell_type": "markdown",
   "id": "705d8efa",
   "metadata": {},
   "source": [
    "# Abstract Methods and Classes\n",
    "An abstract class is a class that is declared abstract—it may or may not include abstract methods. Abstract classes cannot be instantiated, but they can be subclassed.\n",
    "\n",
    "An abstract method is a method that is declared without an implementation (without braces, and followed by a semicolon), like this:        \n",
    "\n",
    "```java\n",
    "abstract void toMove(double deltaX, double deltaY);\n",
    "```\n",
    "\n",
    "If a class includes abstract methods, then the class itself must be declared abstract, as in:     \n",
    "\n",
    "```java\n",
    "public abstract class Shape {\n",
    "   // declare fields\n",
    "   // declare nonabstract methods\n",
    "   abstract public double area();\n",
    "}\n",
    "```\n",
    "\n",
    "When an abstract class is subclassed, the subclass usually provides implementations for all of the abstract methods in its parent class. **However, if it does not, then the subclass must also be declared abstract.**   "
   ]
  },
  {
   "cell_type": "code",
   "execution_count": 29,
   "id": "8ee62295",
   "metadata": {},
   "outputs": [],
   "source": [
    "public abstract class Shape {\n",
    "\n",
    "    private String color;\n",
    "\n",
    "    public Shape() {}\n",
    "\n",
    "    public void setColor(String color) {this.color = color;}\n",
    "    public String getColor() {return this.color;}\n",
    "\n",
    "    abstract public double area();\n",
    "    \n",
    "    abstract public void toMove(double deltaX, double deltaY);\n",
    "    \n",
    "    public boolean isBlue(){\n",
    "        return this.color.toUpperCase() == \"BLUE\";\n",
    "    }\n",
    " \n",
    "}"
   ]
  },
  {
   "cell_type": "markdown",
   "id": "e3dc6618",
   "metadata": {},
   "source": [
    "Square class extends the Shape class. You can extend the Shape class with as many classes as you want. For example with Circle class. "
   ]
  },
  {
   "cell_type": "code",
   "execution_count": 30,
   "id": "3b2e2fbd",
   "metadata": {},
   "outputs": [],
   "source": [
    "public class Square extends Shape {\n",
    "\n",
    "    private double width = 0;\n",
    "    private double length = 0;\n",
    "\n",
    "    public Square(double width, double length) {\n",
    "        super();\n",
    "        this.width = width;\n",
    "        this.length = length;\n",
    "    }\n",
    "\n",
    "    public double getWidth() {return width;}\n",
    "    public void setWidth(double width) {this.width = width;}\n",
    "\n",
    "    public double getLength() {return length;}\n",
    "    public void setLength(double length) {this.length = length;}\n",
    "\n",
    "    @Override\n",
    "    public double area() {\n",
    "        return this.width * this.length;\n",
    "    }\n",
    "    \n",
    "    @Override\n",
    "    public void toMove(double deltaX, double deltaY){\n",
    "    \n",
    "     this.width = this.width + deltaX;\n",
    "     this.length = this.length + deltaY;\n",
    "    \n",
    "    }\n",
    "\n",
    "    public double perimeter() {\n",
    "        return 2* ( this.width + this.length);\n",
    "    }\n",
    "\n",
    "    \n",
    "    public String toString() {\n",
    "        return \"Square [width=\" + width + \", length=\" + length + \", color=\"+ this.getColor() +\"]\";\n",
    "    }\n",
    "\n",
    "\n",
    "}"
   ]
  },
  {
   "cell_type": "markdown",
   "id": "75ed5be4",
   "metadata": {},
   "source": [
    " An abstract class cannot be instantiated."
   ]
  },
  {
   "cell_type": "code",
   "execution_count": 31,
   "id": "2bcac147",
   "metadata": {},
   "outputs": [
    {
     "ename": "CompilationException",
     "evalue": "",
     "output_type": "error",
     "traceback": [
      "\u001b[1m\u001b[30m|   \u001b[1m\u001b[30mShape shape = \u001b[0m\u001b[1m\u001b[30m\u001b[41mnew Shape()\u001b[0m\u001b[1m\u001b[30m;\u001b[0m",
      "\u001b[1m\u001b[31mShape is abstract; cannot be instantiated\u001b[0m",
      ""
     ]
    }
   ],
   "source": [
    "Shape shape = new Shape();"
   ]
  },
  {
   "cell_type": "markdown",
   "id": "f28b8fa2",
   "metadata": {},
   "source": [
    "Must  instantiated the extend class. "
   ]
  },
  {
   "cell_type": "code",
   "execution_count": 32,
   "id": "cab37022",
   "metadata": {},
   "outputs": [],
   "source": [
    "Square square = new Square( 8, 9);"
   ]
  },
  {
   "cell_type": "markdown",
   "id": "2de09824",
   "metadata": {},
   "source": [
    "In an abstract class you can define properties."
   ]
  },
  {
   "cell_type": "code",
   "execution_count": 15,
   "id": "1a092d0e",
   "metadata": {},
   "outputs": [],
   "source": [
    "square.setColor( \"green\" );"
   ]
  },
  {
   "cell_type": "markdown",
   "id": "dbac97bd",
   "metadata": {},
   "source": [
    "In an abstract class you can define functions."
   ]
  },
  {
   "cell_type": "code",
   "execution_count": 17,
   "id": "0ec38211",
   "metadata": {},
   "outputs": [
    {
     "name": "stdout",
     "output_type": "stream",
     "text": [
      "Is this shape Blue ? false\n"
     ]
    }
   ],
   "source": [
    "System.out.println(\"Is this shape Blue ? \" + square.isBlue());"
   ]
  },
  {
   "cell_type": "markdown",
   "id": "47de3b08",
   "metadata": {},
   "source": [
    "In the extend class you can add functions to."
   ]
  },
  {
   "cell_type": "code",
   "execution_count": 18,
   "id": "b828e3f6",
   "metadata": {},
   "outputs": [
    {
     "name": "stdout",
     "output_type": "stream",
     "text": [
      "Square = Square [width=8.0, length=9.0, color=green]\n"
     ]
    }
   ],
   "source": [
    "System.out.println(\"Square = \" + square.toString() );"
   ]
  },
  {
   "cell_type": "code",
   "execution_count": 19,
   "id": "6a352482",
   "metadata": {},
   "outputs": [
    {
     "name": "stdout",
     "output_type": "stream",
     "text": [
      "Square Area = 72.0\n"
     ]
    }
   ],
   "source": [
    "System.out.println(\"Square Area = \" + square.area() );"
   ]
  },
  {
   "cell_type": "code",
   "execution_count": 10,
   "id": "31c04c72",
   "metadata": {},
   "outputs": [
    {
     "name": "stdout",
     "output_type": "stream",
     "text": [
      "Square Perimeter = 34.0\n"
     ]
    }
   ],
   "source": [
    "System.out.println(\"Square Perimeter = \" + square.perimeter() );"
   ]
  },
  {
   "cell_type": "markdown",
   "id": "4a2b7cb2",
   "metadata": {},
   "source": [
    "# Abstract Classes Compared to Interfaces\n",
    "Abstract classes are similar to interfaces. You cannot instantiate them, and they may contain a mix of methods declared with or without an implementation. However, with abstract classes, you can declare fields that are not static and final, and define public, protected, and private concrete methods. With interfaces, all fields are automatically public, static, and final, and all methods that you declare or define (as default methods) are public. In addition, you can extend only one class, whether or not it is abstract, whereas you can implement any number of interfaces.          \n",
    "\n",
    "Which should you use, abstract classes or interfaces?          \n",
    "\n",
    "Consider using **abstract classes** if any of these statements apply to your situation:     \n",
    "* You want to share code among several closely related classes.   \n",
    "* You expect that classes that extend your abstract class have many common methods or fields, or require access modifiers other than public (such as protected and private).   \n",
    "* You want to declare non-static or non-final fields. This enables you to define methods that can access and modify the state of the object to which they belong.    \n",
    "\n",
    "Consider using interfaces if any of these statements apply to your situation:    \n",
    "* You expect that unrelated classes would implement your interface. For example, the interfaces Comparable and Cloneable are implemented by many unrelated classes.\n",
    "* You want to specify the behavior of a particular data type, but not concerned about who implements its behavior.\n",
    "* You want to take advantage of multiple inheritance of type.\n",
    "\n",
    "An example of an abstract class in the JDK is AbstractMap, which is part of the Collections Framework. Its subclasses (which include HashMap, TreeMap, and ConcurrentHashMap) share many methods (including get, put, isEmpty, containsKey, and containsValue) that AbstractMap defines.    \n",
    "\n",
    "An example of a class in the JDK that implements several interfaces is HashMap, which implements the interfaces Serializable, Cloneable, and Map<K, V>. By reading this list of interfaces, you can infer that an instance of HashMap (regardless of the developer or company who implemented the class) can be cloned, is serializable (which means that it can be converted into a byte stream; see the section Serializable Objects), and has the functionality of a map. In addition, the Map<K, V> interface has been enhanced with many default methods such as merge and forEach that older classes that have implemented this interface do not have to define.    \n",
    "\n",
    "Note that many software libraries use both abstract classes and interfaces; the HashMap class implements several interfaces and also extends the abstract class AbstractMap.         "
   ]
  },
  {
   "cell_type": "code",
   "execution_count": null,
   "id": "accf250f",
   "metadata": {},
   "outputs": [],
   "source": []
  }
 ],
 "metadata": {
  "kernelspec": {
   "display_name": "Java",
   "language": "java",
   "name": "java"
  },
  "language_info": {
   "codemirror_mode": "java",
   "file_extension": ".jshell",
   "mimetype": "text/x-java-source",
   "name": "Java",
   "pygments_lexer": "java",
   "version": "12.0.2+10"
  }
 },
 "nbformat": 4,
 "nbformat_minor": 5
}
