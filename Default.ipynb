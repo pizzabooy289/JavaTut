{
 "cells": [
  {
   "cell_type": "markdown",
   "id": "7e9282b5",
   "metadata": {},
   "source": [
    "# Default "
   ]
  },
  {
   "cell_type": "markdown",
   "id": "d2119ad7",
   "metadata": {},
   "source": [
    "Before Java 8, interfaces could have only abstract methods. The implementation of these methods has to be provided in a separate class. So, if a new method is to be added in an interface, then its implementation code has to be provided in the class implementing the same interface. To overcome this issue, Java 8 has introduced the concept of default methods which allow the interfaces to have methods with implementation without affecting the classes that implement the interface."
   ]
  },
  {
   "cell_type": "code",
   "execution_count": 1,
   "id": "95558b5d",
   "metadata": {},
   "outputs": [],
   "source": [
    "interface TestInterface\n",
    "{\n",
    "    // abstract method\n",
    "    public void square(int a);\n",
    "  \n",
    "    // default method\n",
    "    default void show()\n",
    "    {\n",
    "      System.out.println(\"Default Method Executed\");\n",
    "    }\n",
    "}"
   ]
  },
  {
   "cell_type": "markdown",
   "id": "eb49e5b0",
   "metadata": {},
   "source": [
    "# Implementation of square abstract method"
   ]
  },
  {
   "cell_type": "code",
   "execution_count": 2,
   "id": "47c18540",
   "metadata": {},
   "outputs": [],
   "source": [
    "class TestClass implements TestInterface\n",
    "{\n",
    "    \n",
    "    public void square(int a)\n",
    "    {\n",
    "        System.out.println(a*a);\n",
    "    }\n",
    "}"
   ]
  },
  {
   "cell_type": "markdown",
   "id": "b61a6a51",
   "metadata": {},
   "source": [
    "# Example "
   ]
  },
  {
   "cell_type": "code",
   "execution_count": 4,
   "id": "2bd4cd01",
   "metadata": {},
   "outputs": [
    {
     "name": "stdout",
     "output_type": "stream",
     "text": [
      "16\n",
      "Default Method Executed\n"
     ]
    }
   ],
   "source": [
    "TestClass d = new TestClass();\n",
    "d.square(4);\n",
    "  \n",
    " // default method executed\n",
    "d.show();"
   ]
  },
  {
   "cell_type": "code",
   "execution_count": null,
   "id": "3d41b80a",
   "metadata": {},
   "outputs": [],
   "source": []
  }
 ],
 "metadata": {
  "kernelspec": {
   "display_name": "Java",
   "language": "java",
   "name": "java"
  },
  "language_info": {
   "codemirror_mode": "java",
   "file_extension": ".jshell",
   "mimetype": "text/x-java-source",
   "name": "Java",
   "pygments_lexer": "java",
   "version": "12.0.2+10"
  }
 },
 "nbformat": 4,
 "nbformat_minor": 5
}
