{
 "cells": [
  {
   "cell_type": "markdown",
   "id": "77b4ea23",
   "metadata": {},
   "source": [
    "# Generic Method"
   ]
  },
  {
   "cell_type": "markdown",
   "id": "1d691601",
   "metadata": {},
   "source": [
    "Java Generic methods and generic classes enable programmers to specify, with a single method declaration, a set of related methods, or with a single class declaration, a set of related types, respectively.\n",
    "\n",
    "Generics also provide compile-time type safety that allows programmers to catch invalid types at compile time.\n",
    "\n",
    "Using Java Generic concept, we might write a generic method for sorting an array of objects, then invoke the generic method with Integer arrays, Double arrays, String arrays and so on, to sort the array elements."
   ]
  },
  {
   "cell_type": "code",
   "execution_count": 2,
   "id": "947f0188",
   "metadata": {},
   "outputs": [],
   "source": [
    "public class Print {\n",
    "\n",
    "    public static < E > void printArray( E[] inputArray ) {\n",
    "        for(E element : inputArray) {\n",
    "            System.out.printf(\"%s \", element);\n",
    "         }\n",
    "         System.out.println();\n",
    "     }\n",
    "\n",
    "}"
   ]
  },
  {
   "cell_type": "markdown",
   "id": "cb974bca",
   "metadata": {},
   "source": [
    "# Example Arrays of Integer"
   ]
  },
  {
   "cell_type": "code",
   "execution_count": 3,
   "id": "9c4c2e1f",
   "metadata": {},
   "outputs": [
    {
     "name": "stdout",
     "output_type": "stream",
     "text": [
      "1 2 3 4 5 \n"
     ]
    }
   ],
   "source": [
    "Integer[] intArray = { 1, 2, 3, 4, 5 };\n",
    "Print.printArray(intArray);"
   ]
  },
  {
   "cell_type": "markdown",
   "id": "51869fec",
   "metadata": {},
   "source": [
    "# Example Arrays of Double"
   ]
  },
  {
   "cell_type": "code",
   "execution_count": 4,
   "id": "ab3e495c",
   "metadata": {},
   "outputs": [
    {
     "name": "stdout",
     "output_type": "stream",
     "text": [
      "1.1 2.2 3.3 4.4 \n"
     ]
    }
   ],
   "source": [
    "Double[] doubleArray = { 1.1, 2.2, 3.3, 4.4 };\n",
    "Print.printArray(doubleArray); "
   ]
  },
  {
   "cell_type": "markdown",
   "id": "f45a6022",
   "metadata": {},
   "source": [
    "# Example Arrays of Character"
   ]
  },
  {
   "cell_type": "code",
   "execution_count": null,
   "id": "de99f50e",
   "metadata": {},
   "outputs": [],
   "source": []
  }
 ],
 "metadata": {
  "kernelspec": {
   "display_name": "Java",
   "language": "java",
   "name": "java"
  },
  "language_info": {
   "codemirror_mode": "java",
   "file_extension": ".jshell",
   "mimetype": "text/x-java-source",
   "name": "Java",
   "pygments_lexer": "java",
   "version": "12.0.2+10"
  }
 },
 "nbformat": 4,
 "nbformat_minor": 5
}
