{
 "cells": [
  {
   "cell_type": "markdown",
   "id": "46074645",
   "metadata": {},
   "source": [
    "<p style=\"color:green; font-size:40px;\">Functional Interfaces</p>"
   ]
  },
  {
   "cell_type": "markdown",
   "id": "859f05f8",
   "metadata": {},
   "source": [
    "# Function Interface"
   ]
  },
  {
   "cell_type": "markdown",
   "id": "acb7c3fb",
   "metadata": {},
   "source": [
    "The term Java functional interface was introduced in Java 8. A functional interface in Java is an interface that contains only a single abstract (unimplemented) method. A functional interface can contain default and static methods which do have an implementation, in addition to the single unimplemented method."
   ]
  },
  {
   "cell_type": "code",
   "execution_count": 11,
   "id": "896ef3a9",
   "metadata": {},
   "outputs": [],
   "source": [
    "@FunctionalInterface\n",
    "public interface Geeting {\n",
    "     public void message();\n",
    "    \n",
    "    public default void sayHello(String name){\n",
    "        System.out.println(\"Hello \"+ name);\n",
    "    }\n",
    "    \n",
    "    public static void sayHi(String firstName, String lastName){\n",
    "         System.out.println(\"Hi \"+ firstName + \" \"+ lastName);\n",
    "    }\n",
    "}"
   ]
  },
  {
   "cell_type": "code",
   "execution_count": 12,
   "id": "359c4633",
   "metadata": {},
   "outputs": [],
   "source": [
    "Geeting geeting = () -> System.out.print(\"Hello World\");"
   ]
  },
  {
   "cell_type": "code",
   "execution_count": 13,
   "id": "902a5e84",
   "metadata": {},
   "outputs": [
    {
     "name": "stdout",
     "output_type": "stream",
     "text": [
      "Hello World"
     ]
    }
   ],
   "source": [
    "geeting.message();"
   ]
  },
  {
   "cell_type": "code",
   "execution_count": 14,
   "id": "a39c12ff",
   "metadata": {},
   "outputs": [
    {
     "name": "stdout",
     "output_type": "stream",
     "text": [
      "Hello John\n"
     ]
    }
   ],
   "source": [
    "geeting.sayHello(\"John\");"
   ]
  },
  {
   "cell_type": "code",
   "execution_count": 15,
   "id": "b53a8320",
   "metadata": {},
   "outputs": [
    {
     "name": "stdout",
     "output_type": "stream",
     "text": [
      "Hi John Smith\n"
     ]
    }
   ],
   "source": [
    "Geeting.sayHi(\"John\", \"Smith\");"
   ]
  },
  {
   "cell_type": "markdown",
   "id": "ceaafb45",
   "metadata": {},
   "source": [
    "## Example Function Interface (Runnable)"
   ]
  },
  {
   "cell_type": "markdown",
   "id": "d7fc985c",
   "metadata": {},
   "source": [
    "The Runnable interface is a functional interface defined in java.lang package. This interface contains a single abstract method, run() with no arguments. When an object of a class implementing this interface used to create a thread, then run() method has invoked in a thread that executes separately."
   ]
  },
  {
   "cell_type": "markdown",
   "id": "8e38da24",
   "metadata": {},
   "source": [
    "``` Java\n",
    "@FunctionalInterface\n",
    "public interface Runnable {\n",
    " void run();\n",
    "}\n",
    "```"
   ]
  },
  {
   "cell_type": "markdown",
   "id": "3dc50802",
   "metadata": {},
   "source": [
    "In the below example, we can implement a Runnable interface by using an <b>anonymous class</b> and <b>lambda expression</b>."
   ]
  },
  {
   "cell_type": "code",
   "execution_count": 13,
   "id": "accd2627",
   "metadata": {},
   "outputs": [],
   "source": [
    "public Runnable sayHello = new Runnable() {\n",
    "    \n",
    "    @Override\n",
    "    public void run() { // anonymous class\n",
    "            System.out.println(\"Hello World! \");\n",
    "         }\n",
    "};"
   ]
  },
  {
   "cell_type": "markdown",
   "id": "f9086a44",
   "metadata": {},
   "source": [
    "Running the runnable method"
   ]
  },
  {
   "cell_type": "code",
   "execution_count": 15,
   "id": "369cdcb2",
   "metadata": {},
   "outputs": [
    {
     "name": "stdout",
     "output_type": "stream",
     "text": [
      "Hello World! \r\n"
     ]
    }
   ],
   "source": [
    "sayHello.run();"
   ]
  },
  {
   "cell_type": "markdown",
   "id": "b56f39df",
   "metadata": {},
   "source": [
    "# Functional Interfaces Can Be Implemented by a Lambda Expression"
   ]
  },
  {
   "cell_type": "markdown",
   "id": "26cd95bd",
   "metadata": {},
   "source": [
    "A Java lambda expression implements a single method from a Java interface. In order to know what method the lambda expression implements, the interface can only contain a single unimplemented method. In other words, the interface must be a Java functional interface."
   ]
  },
  {
   "cell_type": "markdown",
   "id": "4cd6e3b7",
   "metadata": {},
   "source": [
    "# No Parameters"
   ]
  },
  {
   "cell_type": "code",
   "execution_count": 26,
   "id": "99e72100",
   "metadata": {},
   "outputs": [],
   "source": [
    "@FunctionalInterface  //It is optional  \n",
    "interface Drawable{  \n",
    "    public void draw();  \n",
    "}  "
   ]
  },
  {
   "cell_type": "code",
   "execution_count": 27,
   "id": "446d4666",
   "metadata": {},
   "outputs": [],
   "source": [
    "int width=10; "
   ]
  },
  {
   "cell_type": "code",
   "execution_count": 28,
   "id": "5d035ac7",
   "metadata": {},
   "outputs": [],
   "source": [
    " Drawable d2=()->{  System.out.println(\"Drawing \"+width); }; "
   ]
  },
  {
   "cell_type": "code",
   "execution_count": 29,
   "id": "caf723ae",
   "metadata": {},
   "outputs": [
    {
     "name": "stdout",
     "output_type": "stream",
     "text": [
      "Drawing 10\n"
     ]
    }
   ],
   "source": [
    " d2.draw(); "
   ]
  },
  {
   "cell_type": "markdown",
   "id": "f0ec1009",
   "metadata": {},
   "source": [
    "# Multiple parameters"
   ]
  },
  {
   "cell_type": "code",
   "execution_count": 31,
   "id": "218dd8b5",
   "metadata": {},
   "outputs": [],
   "source": [
    "interface Addable{  \n",
    "    int add(int a,int b);  \n",
    "}  "
   ]
  },
  {
   "cell_type": "code",
   "execution_count": 32,
   "id": "342f8dc7",
   "metadata": {},
   "outputs": [],
   "source": [
    " Addable ad1=(a,b)->(a+b); "
   ]
  },
  {
   "cell_type": "code",
   "execution_count": 33,
   "id": "74be479a",
   "metadata": {},
   "outputs": [
    {
     "name": "stdout",
     "output_type": "stream",
     "text": [
      "30\n"
     ]
    }
   ],
   "source": [
    "System.out.println(ad1.add(10,20));  "
   ]
  },
  {
   "cell_type": "markdown",
   "id": "5d4cca8e",
   "metadata": {},
   "source": [
    "<p style=\"color:green; font-size:40px;\">Built-in Functional Interfaces in Java</p>"
   ]
  },
  {
   "cell_type": "markdown",
   "id": "638f0a6f",
   "metadata": {},
   "source": [
    "Java contains a set of functional interfaces designed for commonly occuring use cases, so you don't have to create your own functional interfaces for every little use case. In the following sections I will be describing some of these built-in functional interfaces in Java."
   ]
  },
  {
   "cell_type": "markdown",
   "id": "95d8e4f0",
   "metadata": {},
   "source": [
    "<p style=\"color:blue; font-size:30px;\">Function</p>"
   ]
  },
  {
   "cell_type": "markdown",
   "id": "86abd8e0",
   "metadata": {},
   "source": [
    "The Java Function interface (java.util.function.Function) interface is one of the most central functional interfaces in Java. The Function interface represents a function (method) that takes a single parameter and returns a single value. Here is how the Function interface definition looks:"
   ]
  },
  {
   "cell_type": "markdown",
   "id": "dd535962",
   "metadata": {},
   "source": [
    "```Java\n",
    "public interface Function<T,R> {\n",
    "\n",
    "    public <R> apply(T parameter);\n",
    "}\n",
    "```"
   ]
  },
  {
   "cell_type": "markdown",
   "id": "fd816457",
   "metadata": {},
   "source": [
    "Methods in Function Interface\n",
    "The Function interface consists of the following 4 methods as listed which are later discussed as follows:\n",
    "\n",
    "* apply()\n",
    "* andThen()\n",
    "* compose()\n",
    "* identity()"
   ]
  },
  {
   "cell_type": "markdown",
   "id": "feb0c8dc",
   "metadata": {},
   "source": [
    "# apply()"
   ]
  },
  {
   "cell_type": "markdown",
   "id": "a0953fc8",
   "metadata": {},
   "source": [
    "```Java\n",
    "R apply(T t)\n",
    "```"
   ]
  },
  {
   "cell_type": "markdown",
   "id": "d953e2f4",
   "metadata": {},
   "source": [
    "**Parameters:** This method takes in only one parameter **t** which is the function argument\n",
    "\n",
    "**Return Type:** This method returns the function result which is of type **R**."
   ]
  },
  {
   "cell_type": "code",
   "execution_count": 3,
   "id": "c415b8fd",
   "metadata": {},
   "outputs": [],
   "source": [
    "java.util.function.Function<String, Integer> func = x -> x.length();"
   ]
  },
  {
   "cell_type": "code",
   "execution_count": 6,
   "id": "c1567de1",
   "metadata": {},
   "outputs": [],
   "source": [
    "Integer letter_count = func.apply(\"mkyong\");   // 6"
   ]
  },
  {
   "cell_type": "code",
   "execution_count": 7,
   "id": "3b1cf298",
   "metadata": {},
   "outputs": [
    {
     "name": "stdout",
     "output_type": "stream",
     "text": [
      "6\n"
     ]
    }
   ],
   "source": [
    "System.out.println(letter_count);"
   ]
  },
  {
   "cell_type": "markdown",
   "id": "08801a70",
   "metadata": {},
   "source": [
    "The Function interface actually contains a few extra methods in addition to the methods listed above, but since they all come with a default implementation, you do not have to implement these extra methods. The extra methods will be explained in later sections.\n",
    "\n",
    "The only method you have to implement to implement the Function interface is the apply() method. Here is a Function implementation example:"
   ]
  },
  {
   "cell_type": "code",
   "execution_count": 8,
   "id": "abfe0b91",
   "metadata": {},
   "outputs": [],
   "source": [
    "public class AddThree implements java.util.function.Function<Long, Long> {\n",
    "\n",
    "    @Override\n",
    "    public Long apply(Long aLong) {\n",
    "        return aLong + 3;\n",
    "    }\n",
    "}"
   ]
  },
  {
   "cell_type": "markdown",
   "id": "ef13bcfe",
   "metadata": {},
   "source": [
    "This Function implementation implements the apply() method so it takes a Long as parameter, and returns a Long. Here is an example of using the above AddThree class:"
   ]
  },
  {
   "cell_type": "code",
   "execution_count": 10,
   "id": "614f2f97",
   "metadata": {},
   "outputs": [],
   "source": [
    "java.util.function.Function<Long, Long> adder = new AddThree();"
   ]
  },
  {
   "cell_type": "code",
   "execution_count": 11,
   "id": "d7b0e7d0",
   "metadata": {},
   "outputs": [],
   "source": [
    "Long result = adder.apply((long) 4);"
   ]
  },
  {
   "cell_type": "code",
   "execution_count": 12,
   "id": "a211559b",
   "metadata": {},
   "outputs": [
    {
     "name": "stdout",
     "output_type": "stream",
     "text": [
      "result = 7\n"
     ]
    }
   ],
   "source": [
    "System.out.println(\"result = \" + result);"
   ]
  },
  {
   "cell_type": "markdown",
   "id": "c38d6727",
   "metadata": {},
   "source": [
    "# andThen()"
   ]
  },
  {
   "cell_type": "markdown",
   "id": "f56ecc7f",
   "metadata": {},
   "source": [
    "It returns a composed function wherein the parameterized function will be executed after the first one. If evaluation of either function throws an error, it is relayed to the caller of the composed function."
   ]
  },
  {
   "cell_type": "markdown",
   "id": "a96f9d6d",
   "metadata": {},
   "source": [
    "```Java\n",
    "default <V> Function<T, V> \n",
    "andThen(Function<? super R, ? extends V> after)\n",
    "```"
   ]
  },
  {
   "cell_type": "markdown",
   "id": "4eee726d",
   "metadata": {},
   "source": [
    "where **V** is the type of output of the after function, and of the composed function\n",
    "\n",
    "**Parameters:** This method accepts a parameter after which is the function to be applied after the current one.\\\n",
    "\n",
    "**Return Value:** This method returns a composed function that applies the current function first and then the after function\n",
    "\n",
    "**Exception:** This method throws NullPointerException if the after function is null."
   ]
  },
  {
   "cell_type": "code",
   "execution_count": 13,
   "id": "eabbcd1e",
   "metadata": {},
   "outputs": [],
   "source": [
    " java.util.function.Function<Integer, Double> half = a -> a / 2.0;"
   ]
  },
  {
   "cell_type": "code",
   "execution_count": 14,
   "id": "5a42263c",
   "metadata": {},
   "outputs": [],
   "source": [
    "half = half.andThen(a -> 3 * a);"
   ]
  },
  {
   "cell_type": "code",
   "execution_count": 15,
   "id": "ba5b3096",
   "metadata": {},
   "outputs": [
    {
     "name": "stdout",
     "output_type": "stream",
     "text": [
      "15.0\n"
     ]
    }
   ],
   "source": [
    "System.out.println(half.apply(10));"
   ]
  },
  {
   "cell_type": "markdown",
   "id": "502dc2f2",
   "metadata": {},
   "source": [
    "Check answer"
   ]
  },
  {
   "cell_type": "code",
   "execution_count": 16,
   "id": "a2760009",
   "metadata": {},
   "outputs": [
    {
     "data": {
      "text/plain": [
       "15"
      ]
     },
     "execution_count": 16,
     "metadata": {},
     "output_type": "execute_result"
    }
   ],
   "source": [
    "3*(10/2)"
   ]
  },
  {
   "cell_type": "markdown",
   "id": "75291867",
   "metadata": {},
   "source": [
    "# compose()"
   ]
  },
  {
   "cell_type": "markdown",
   "id": "392652dc",
   "metadata": {},
   "source": [
    "It returns a composed function wherein the parameterized function will be executed first and then the first one. If evaluation of either function throws an error, it is relayed to the caller of the composed function."
   ]
  },
  {
   "cell_type": "markdown",
   "id": "d0800aae",
   "metadata": {},
   "source": [
    "```Java\n",
    "default <V> Function<V, R> \n",
    "compose(Function<? super V, ? extends T> before)\n",
    "```"
   ]
  },
  {
   "cell_type": "markdown",
   "id": "dd872252",
   "metadata": {},
   "source": [
    "Where **V** is the type of input of the before function, and of the composed function\n",
    "\n",
    "**Parameters:** This method accepts a parameter before which is the function to be applied first and then the current one\n",
    "\n",
    "**Return Value:** This method returns a composed function that applies the current function after the parameterized function\n",
    "\n",
    "**Exception:** This method throws NullPointerException if the before function is null."
   ]
  },
  {
   "cell_type": "code",
   "execution_count": 18,
   "id": "4055380e",
   "metadata": {},
   "outputs": [],
   "source": [
    " java.util.function.Function<Integer, Double> half = a -> a / 2.0;"
   ]
  },
  {
   "cell_type": "code",
   "execution_count": 19,
   "id": "41c3d58a",
   "metadata": {},
   "outputs": [],
   "source": [
    "half = half.compose(a -> 3 * a);"
   ]
  },
  {
   "cell_type": "code",
   "execution_count": 20,
   "id": "93a200f0",
   "metadata": {},
   "outputs": [
    {
     "name": "stdout",
     "output_type": "stream",
     "text": [
      "15.0\n"
     ]
    }
   ],
   "source": [
    "System.out.println(half.apply(10));"
   ]
  },
  {
   "cell_type": "markdown",
   "id": "1f5ae742",
   "metadata": {},
   "source": [
    "Check answer"
   ]
  },
  {
   "cell_type": "code",
   "execution_count": 21,
   "id": "8b36048e",
   "metadata": {},
   "outputs": [
    {
     "data": {
      "text/plain": [
       "15"
      ]
     },
     "execution_count": 21,
     "metadata": {},
     "output_type": "execute_result"
    }
   ],
   "source": [
    "3*(10/2)"
   ]
  },
  {
   "cell_type": "markdown",
   "id": "288241f1",
   "metadata": {},
   "source": [
    "#  identity()"
   ]
  },
  {
   "cell_type": "markdown",
   "id": "d7f21ba3",
   "metadata": {},
   "source": [
    "This method returns a function that returns its only argument."
   ]
  },
  {
   "cell_type": "markdown",
   "id": "6cc078d7",
   "metadata": {},
   "source": [
    "```Java\n",
    "static <T> Function<T, T> identity()\n",
    "```"
   ]
  },
  {
   "cell_type": "markdown",
   "id": "a71ebbd4",
   "metadata": {},
   "source": [
    "where **T** denotes the type of the argument and the value to be returned\n",
    "\n",
    "**Returns:** This method returns a function that returns its own argument"
   ]
  },
  {
   "cell_type": "code",
   "execution_count": 24,
   "id": "8d1112e0",
   "metadata": {},
   "outputs": [],
   "source": [
    "// Function which takes in a number and\n",
    "// returns it\n",
    "java.util.function.Function<Integer, Integer> i =  java.util.function.Function.identity();"
   ]
  },
  {
   "cell_type": "code",
   "execution_count": 25,
   "id": "39e9b39e",
   "metadata": {},
   "outputs": [
    {
     "name": "stdout",
     "output_type": "stream",
     "text": [
      "10\n"
     ]
    }
   ],
   "source": [
    "System.out.println(i.apply(10));"
   ]
  },
  {
   "cell_type": "markdown",
   "id": "5c2d7eed",
   "metadata": {},
   "source": [
    "<p style=\"color:blue; font-size:30px;\">Predicate</p>"
   ]
  },
  {
   "cell_type": "markdown",
   "id": "dd17c311",
   "metadata": {},
   "source": [
    "The Java Predicate interface, java.util.function.Predicate, represents a simple function that takes a single value as parameter, and returns true or false. Here is how the Predicate functional interface definition looks:"
   ]
  },
  {
   "cell_type": "markdown",
   "id": "4b7cf7f0",
   "metadata": {},
   "source": [
    "```Java\n",
    "public interface Predicate<T> {\n",
    "    boolean test(T t);\n",
    "}\n",
    "```"
   ]
  },
  {
   "cell_type": "code",
   "execution_count": 26,
   "id": "9ad9de2c",
   "metadata": {},
   "outputs": [],
   "source": [
    "public class CheckForNull implements  java.util.function.Predicate {\n",
    "    @Override\n",
    "    public boolean test(Object o) {\n",
    "        return o != null;\n",
    "    }\n",
    "}"
   ]
  },
  {
   "cell_type": "code",
   "execution_count": 27,
   "id": "1d34a665",
   "metadata": {},
   "outputs": [],
   "source": [
    "CheckForNull check = new CheckForNull();"
   ]
  },
  {
   "cell_type": "code",
   "execution_count": 28,
   "id": "ae212f06",
   "metadata": {},
   "outputs": [
    {
     "name": "stdout",
     "output_type": "stream",
     "text": [
      "false\n"
     ]
    }
   ],
   "source": [
    "System.out.println( check.test(null));"
   ]
  },
  {
   "cell_type": "markdown",
   "id": "f6b25e96",
   "metadata": {},
   "source": [
    "<p style=\"color:blue; font-size:30px;\">UnaryOperator</p>"
   ]
  },
  {
   "cell_type": "markdown",
   "id": "f843c815",
   "metadata": {},
   "source": [
    "The Java UnaryOperator interface is a functional interface that represents an operation which takes a single parameter and returns a parameter of the same type. Here is an example of a Java UnaryOperator implementation:\n",
    "\n",
    "The Java BinaryOperator interface is useful when implementing functions that sum, subtract, divide, multiply etc. two elements of the same type, and returns a third element of the same type."
   ]
  },
  {
   "cell_type": "code",
   "execution_count": 32,
   "id": "7bf50530",
   "metadata": {},
   "outputs": [],
   "source": [
    "java.util.function.BinaryOperator<Integer> binaryOperator =\n",
    "        (value1, value2) -> { \n",
    "                        Integer result = value1+ value2 ; \n",
    "                        return result; \n",
    "        };"
   ]
  },
  {
   "cell_type": "code",
   "execution_count": 34,
   "id": "c2230ca8",
   "metadata": {},
   "outputs": [
    {
     "name": "stdout",
     "output_type": "stream",
     "text": [
      "5\n"
     ]
    }
   ],
   "source": [
    "System.out.println( binaryOperator.apply(2,3) );"
   ]
  },
  {
   "cell_type": "markdown",
   "id": "ff06cec8",
   "metadata": {},
   "source": [
    "<p style=\"color:blue; font-size:30px;\">Supplier</p>"
   ]
  },
  {
   "cell_type": "markdown",
   "id": "b8a73772",
   "metadata": {},
   "source": [
    "The Java Supplier interface is a functional interface that represents an function that supplies a value of some sorts. The Supplier interface can also be thought of as a factory interface. Here is an example implementation of the Java Supplier interface:"
   ]
  },
  {
   "cell_type": "code",
   "execution_count": 35,
   "id": "16027fdc",
   "metadata": {},
   "outputs": [],
   "source": [
    "java.util.function.Supplier<Integer> supplier = () -> new Integer((int) (Math.random() * 1000D));"
   ]
  },
  {
   "cell_type": "code",
   "execution_count": 37,
   "id": "d4961cd7",
   "metadata": {},
   "outputs": [
    {
     "name": "stdout",
     "output_type": "stream",
     "text": [
      "285\n"
     ]
    }
   ],
   "source": [
    "System.out.println( supplier.get() );"
   ]
  },
  {
   "cell_type": "markdown",
   "id": "d201b18e",
   "metadata": {},
   "source": [
    "<p style=\"color:blue; font-size:30px;\">Consumer</p>"
   ]
  },
  {
   "cell_type": "markdown",
   "id": "2ce0c24b",
   "metadata": {},
   "source": [
    "The Java Consumer interface is a functional interface that represents an function that consumes a value without returning any value. A Java Consumer implementation could be printing out a value, or writing it to a file, or over the network etc. Here is an example implementation of the Java Consumer interface:"
   ]
  },
  {
   "cell_type": "code",
   "execution_count": 40,
   "id": "bc5fb813",
   "metadata": {},
   "outputs": [],
   "source": [
    "java.util.function.Consumer<String> consumer = (value) -> System.out.println(value);"
   ]
  },
  {
   "cell_type": "code",
   "execution_count": 41,
   "id": "154fcbed",
   "metadata": {},
   "outputs": [
    {
     "name": "stdout",
     "output_type": "stream",
     "text": [
      "Hello World!\n"
     ]
    }
   ],
   "source": [
    "consumer.accept(\"Hello World!\")"
   ]
  }
 ],
 "metadata": {
  "kernelspec": {
   "display_name": "Java",
   "language": "java",
   "name": "java"
  },
  "language_info": {
   "codemirror_mode": "java",
   "file_extension": ".jshell",
   "mimetype": "text/x-java-source",
   "name": "Java",
   "pygments_lexer": "java",
   "version": "12.0.2+10"
  }
 },
 "nbformat": 4,
 "nbformat_minor": 5
}
