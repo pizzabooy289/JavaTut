{
 "cells": [
  {
   "cell_type": "markdown",
   "id": "ddf273f7",
   "metadata": {},
   "source": [
    "# Lambda"
   ]
  },
  {
   "cell_type": "markdown",
   "id": "ee1fafdc",
   "metadata": {},
   "source": [
    "Lambda expressions are introduced in Java 8 and are touted to be the biggest feature of Java 8. Lambda expression facilitates functional programming, and simplifies the development a lot."
   ]
  },
  {
   "cell_type": "markdown",
   "id": "4c25a625",
   "metadata": {},
   "source": [
    "Syntax       \n",
    "A lambda expression is characterized by the following syntax.\n",
    "```\n",
    "parameter -> expression body\n",
    "```"
   ]
  },
  {
   "cell_type": "markdown",
   "id": "90e6f6e5",
   "metadata": {},
   "source": [
    "# Declaring Example"
   ]
  },
  {
   "cell_type": "code",
   "execution_count": 9,
   "id": "9dc03189",
   "metadata": {},
   "outputs": [],
   "source": [
    "public class MyMath {\n",
    "    \n",
    "   interface MathOperation {\n",
    "      int operation(int a, int b);\n",
    "   }\n",
    "\n",
    "\n",
    "\n",
    "   public int operate(int a, int b, MathOperation mathOperation) {\n",
    "      return mathOperation.operation(a, b);\n",
    "   }\n",
    "}"
   ]
  },
  {
   "cell_type": "code",
   "execution_count": 10,
   "id": "c3dcadd4",
   "metadata": {},
   "outputs": [],
   "source": [
    "MyMath math = new MyMath();"
   ]
  },
  {
   "cell_type": "code",
   "execution_count": 11,
   "id": "b723871b",
   "metadata": {},
   "outputs": [],
   "source": [
    "MyMath.MathOperation addition = (int a, int b) -> a + b;"
   ]
  },
  {
   "cell_type": "code",
   "execution_count": 12,
   "id": "4bcbfa17",
   "metadata": {},
   "outputs": [
    {
     "name": "stdout",
     "output_type": "stream",
     "text": [
      "10 + 5 = 15\n"
     ]
    }
   ],
   "source": [
    "System.out.println(\"10 + 5 = \" + math.operate(10, 5, addition));"
   ]
  },
  {
   "cell_type": "markdown",
   "id": "20c33a0e",
   "metadata": {},
   "source": [
    "# ForEach Example"
   ]
  },
  {
   "cell_type": "markdown",
   "id": "9898c5de",
   "metadata": {},
   "source": [
    "Use a lamba expression in the ArrayList's forEach() method to print every item in the list:"
   ]
  },
  {
   "cell_type": "code",
   "execution_count": 14,
   "id": "b1a40cb1",
   "metadata": {},
   "outputs": [
    {
     "data": {
      "text/plain": [
       "true"
      ]
     },
     "execution_count": 14,
     "metadata": {},
     "output_type": "execute_result"
    }
   ],
   "source": [
    "ArrayList<Integer> numbers = new ArrayList<Integer>();\n",
    "numbers.add(5);\n",
    "numbers.add(9);\n",
    "numbers.add(8);\n",
    "numbers.add(1); "
   ]
  },
  {
   "cell_type": "code",
   "execution_count": 15,
   "id": "0edef016",
   "metadata": {},
   "outputs": [
    {
     "name": "stdout",
     "output_type": "stream",
     "text": [
      "5\n",
      "9\n",
      "8\n",
      "1\n"
     ]
    }
   ],
   "source": [
    "numbers.forEach( (n) -> { System.out.println(n); } );"
   ]
  },
  {
   "cell_type": "markdown",
   "id": "889a064d",
   "metadata": {},
   "source": [
    "# Formatting Example"
   ]
  },
  {
   "cell_type": "markdown",
   "id": "f8ddcaea",
   "metadata": {},
   "source": [
    "To use a lambda expression in a method, the method should have a parameter with a single-method interface as its type. Calling the interface's method will run the lambda expression:"
   ]
  },
  {
   "cell_type": "code",
   "execution_count": 3,
   "id": "ce6c9842",
   "metadata": {},
   "outputs": [],
   "source": [
    "interface StringFunction {\n",
    "  String run(String str);\n",
    "}"
   ]
  },
  {
   "cell_type": "code",
   "execution_count": 4,
   "id": "95d4dbe8",
   "metadata": {},
   "outputs": [],
   "source": [
    "public class MyFormat{\n",
    "  \n",
    "    public static void printFormatted(String str, StringFunction format) {\n",
    "            String result = format.run(str);\n",
    "            System.out.println(result);\n",
    "      }\n",
    "  \n",
    "}"
   ]
  },
  {
   "cell_type": "code",
   "execution_count": 7,
   "id": "02ee55b0",
   "metadata": {},
   "outputs": [],
   "source": [
    "MyFormat m = new MyFormat();"
   ]
  },
  {
   "cell_type": "code",
   "execution_count": 8,
   "id": "5c08347d",
   "metadata": {},
   "outputs": [],
   "source": [
    "StringFunction exclaim = (s) -> s + \"!\";"
   ]
  },
  {
   "cell_type": "code",
   "execution_count": 9,
   "id": "39c66a1d",
   "metadata": {},
   "outputs": [
    {
     "name": "stdout",
     "output_type": "stream",
     "text": [
      "Hello!\n"
     ]
    }
   ],
   "source": [
    "m.printFormatted(\"Hello\", exclaim);"
   ]
  },
  {
   "cell_type": "code",
   "execution_count": 10,
   "id": "738a8f3a",
   "metadata": {},
   "outputs": [],
   "source": [
    "StringFunction ask = (s) -> s + \"?\";"
   ]
  },
  {
   "cell_type": "code",
   "execution_count": 11,
   "id": "6e2bb6ba",
   "metadata": {},
   "outputs": [
    {
     "name": "stdout",
     "output_type": "stream",
     "text": [
      "Hello?\n"
     ]
    }
   ],
   "source": [
    "m.printFormatted(\"Hello\", ask);"
   ]
  }
 ],
 "metadata": {
  "kernelspec": {
   "display_name": "Java",
   "language": "java",
   "name": "java"
  },
  "language_info": {
   "codemirror_mode": "java",
   "file_extension": ".jshell",
   "mimetype": "text/x-java-source",
   "name": "Java",
   "pygments_lexer": "java",
   "version": "12.0.2+10"
  }
 },
 "nbformat": 4,
 "nbformat_minor": 5
}
