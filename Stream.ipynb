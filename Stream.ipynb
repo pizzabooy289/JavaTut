{
 "cells": [
  {
   "cell_type": "code",
   "execution_count": 6,
   "id": "f75ce60c",
   "metadata": {},
   "outputs": [],
   "source": [
    "import java.util.*;\n",
    "import java.util.stream.Collectors;"
   ]
  },
  {
   "cell_type": "markdown",
   "id": "7a6e9129",
   "metadata": {},
   "source": [
    "# Stream map() function with operation of number * 3 on each element of stream."
   ]
  },
  {
   "cell_type": "markdown",
   "id": "7a39dc9d",
   "metadata": {},
   "source": [
    "Java code for Stream map(Function mapper) to get a stream by applying the given function to this stream."
   ]
  },
  {
   "cell_type": "markdown",
   "id": "7a06fe79",
   "metadata": {},
   "source": [
    "Creating a list of Integers   "
   ]
  },
  {
   "cell_type": "code",
   "execution_count": 2,
   "id": "beaf7b59",
   "metadata": {},
   "outputs": [],
   "source": [
    "List<Integer> list = Arrays.asList(3, 6, 9, 12, 15);"
   ]
  },
  {
   "cell_type": "markdown",
   "id": "8abb4d17",
   "metadata": {},
   "source": [
    "Using Stream map(Function mapper) and displaying the corresponding new stream"
   ]
  },
  {
   "cell_type": "code",
   "execution_count": 3,
   "id": "158f86f1",
   "metadata": {},
   "outputs": [
    {
     "name": "stdout",
     "output_type": "stream",
     "text": [
      "9\n",
      "18\n",
      "27\n",
      "36\n",
      "45\n"
     ]
    }
   ],
   "source": [
    "list.stream().map(number -> number * 3).forEach(System.out::println);"
   ]
  },
  {
   "cell_type": "markdown",
   "id": "36831e8c",
   "metadata": {},
   "source": [
    "# Stream map() function with operation of converting lowercase to uppercase."
   ]
  },
  {
   "cell_type": "markdown",
   "id": "54faf915",
   "metadata": {},
   "source": [
    "Java code for Stream map(Function mapper) to get a stream by applying the given function to this stream."
   ]
  },
  {
   "cell_type": "markdown",
   "id": "0bcfdb8a",
   "metadata": {},
   "source": [
    "Creating a list of Integers"
   ]
  },
  {
   "cell_type": "code",
   "execution_count": 4,
   "id": "22651c37",
   "metadata": {},
   "outputs": [],
   "source": [
    "List<String> list = Arrays.asList(\"geeks\", \"gfg\", \"g\",\"e\", \"e\", \"k\", \"s\");"
   ]
  },
  {
   "cell_type": "markdown",
   "id": "130af988",
   "metadata": {},
   "source": [
    "Using Stream map(Function mapper) to convert the Strings in stream to UpperCase form"
   ]
  },
  {
   "cell_type": "code",
   "execution_count": 7,
   "id": "ad47b4aa",
   "metadata": {},
   "outputs": [],
   "source": [
    "List<String> answer = list.stream().map(String::toUpperCase).collect(Collectors.toList());"
   ]
  },
  {
   "cell_type": "markdown",
   "id": "8ff82a55",
   "metadata": {},
   "source": [
    "displaying the new stream of UpperCase Strings"
   ]
  },
  {
   "cell_type": "code",
   "execution_count": 8,
   "id": "12778a06",
   "metadata": {},
   "outputs": [
    {
     "name": "stdout",
     "output_type": "stream",
     "text": [
      "[GEEKS, GFG, G, E, E, K, S]\n"
     ]
    }
   ],
   "source": [
    "System.out.println(answer);"
   ]
  },
  {
   "cell_type": "markdown",
   "id": "352bdcef",
   "metadata": {},
   "source": [
    "# Stream map() function with operation of mapping string length in place of string."
   ]
  },
  {
   "cell_type": "markdown",
   "id": "1fb07ec3",
   "metadata": {},
   "source": [
    "Java code for Stream map(Function mapper) to get a stream by applying the given function to this stream."
   ]
  },
  {
   "cell_type": "markdown",
   "id": "c2e51d67",
   "metadata": {},
   "source": [
    "Creating a list of Strings     "
   ]
  },
  {
   "cell_type": "code",
   "execution_count": 9,
   "id": "90fe3b02",
   "metadata": {},
   "outputs": [],
   "source": [
    "List<String> list = Arrays.asList(\"Geeks\", \"FOR\", \"GEEKSQUIZ\",\"Computer\", \"Science\", \"gfg\");"
   ]
  },
  {
   "cell_type": "markdown",
   "id": "336f8474",
   "metadata": {},
   "source": [
    "Using Stream map(Function mapper) and displaying the length of each String"
   ]
  },
  {
   "cell_type": "code",
   "execution_count": 10,
   "id": "6b222e91",
   "metadata": {},
   "outputs": [
    {
     "name": "stdout",
     "output_type": "stream",
     "text": [
      "5\n",
      "3\n",
      "9\n",
      "8\n",
      "7\n",
      "3\n"
     ]
    }
   ],
   "source": [
    "list.stream().map(str -> str.length()).forEach(System.out::println);"
   ]
  }
 ],
 "metadata": {
  "kernelspec": {
   "display_name": "Java",
   "language": "java",
   "name": "java"
  },
  "language_info": {
   "codemirror_mode": "java",
   "file_extension": ".jshell",
   "mimetype": "text/x-java-source",
   "name": "Java",
   "pygments_lexer": "java",
   "version": "12.0.2+10"
  }
 },
 "nbformat": 4,
 "nbformat_minor": 5
}
