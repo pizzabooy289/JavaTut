{
 "cells": [
  {
   "cell_type": "markdown",
   "id": "d08be690",
   "metadata": {},
   "source": [
    "# Introduction"
   ]
  },
  {
   "cell_type": "markdown",
   "id": "0f6513a1",
   "metadata": {},
   "source": [
    "In Java, an enum (short for enumeration) is a type that has a fixed set of constant values."
   ]
  },
  {
   "cell_type": "markdown",
   "id": "7ae8201e",
   "metadata": {},
   "source": [
    "# Create Enum"
   ]
  },
  {
   "cell_type": "code",
   "execution_count": 44,
   "id": "d68c39d4",
   "metadata": {},
   "outputs": [],
   "source": [
    "public enum CarSize{\n",
    "  SMALL(1), MEDIUM(2), LARGE(3), EXTRALARGE(4);\n",
    "    \n",
    "  private int size;\n",
    "\n",
    "  CarSize(int size) {\n",
    "    this.size = size;\n",
    "  }\n",
    "\n",
    "  public int getSize() {\n",
    "    return this.size;\n",
    "  }\n",
    "    \n",
    "  public void setSize(int size) {\n",
    "    this.size = size;\n",
    "  } \n",
    "}"
   ]
  },
  {
   "cell_type": "markdown",
   "id": "b39719ae",
   "metadata": {},
   "source": [
    "# Setting Variable"
   ]
  },
  {
   "cell_type": "code",
   "execution_count": 45,
   "id": "5bfab1b4",
   "metadata": {},
   "outputs": [
    {
     "name": "stdout",
     "output_type": "stream",
     "text": [
      "SMALL\r\n"
     ]
    }
   ],
   "source": [
    "CarSize  pizzaSize = CarSize.SMALL;\n",
    "\n",
    "System.out.println(pizzaSize);"
   ]
  },
  {
   "cell_type": "code",
   "execution_count": 46,
   "id": "f4f390cd",
   "metadata": {},
   "outputs": [
    {
     "name": "stdout",
     "output_type": "stream",
     "text": [
      "0\r\n"
     ]
    }
   ],
   "source": [
    "CarSize.SMALL.setSize(0);\n",
    "System.out.println(CarSize.SMALL.getSize());"
   ]
  },
  {
   "cell_type": "markdown",
   "id": "209f7391",
   "metadata": {},
   "source": [
    "# Switch Statement"
   ]
  },
  {
   "cell_type": "code",
   "execution_count": 47,
   "id": "0121c540",
   "metadata": {},
   "outputs": [
    {
     "name": "stdout",
     "output_type": "stream",
     "text": [
      "I ordered a small size pizza.\r\n"
     ]
    }
   ],
   "source": [
    "switch(pizzaSize) {\n",
    "     case SMALL:\n",
    "       System.out.println(\"I ordered a small size pizza.\");\n",
    "       break;\n",
    "     case MEDIUM:\n",
    "       System.out.println(\"I ordered a medium size pizza.\");\n",
    "       break;\n",
    "     default:\n",
    "       System.out.println(\"I don't know which one to order.\");\n",
    "       break;\n",
    "}"
   ]
  },
  {
   "cell_type": "markdown",
   "id": "5c534f45",
   "metadata": {},
   "source": [
    "# Methods of Java Enum Class"
   ]
  },
  {
   "cell_type": "markdown",
   "id": "d4cdf846",
   "metadata": {},
   "source": [
    "### ordinal() "
   ]
  },
  {
   "cell_type": "markdown",
   "id": "0cae0d3c",
   "metadata": {},
   "source": [
    "The ordinal() method returns the position of an enum constant"
   ]
  },
  {
   "cell_type": "code",
   "execution_count": 48,
   "id": "106da1f4",
   "metadata": {},
   "outputs": [
    {
     "data": {
      "text/plain": [
       "1"
      ]
     },
     "execution_count": 48,
     "metadata": {},
     "output_type": "execute_result"
    }
   ],
   "source": [
    "CarSize.MEDIUM.ordinal();"
   ]
  },
  {
   "cell_type": "markdown",
   "id": "3341b116",
   "metadata": {},
   "source": [
    "### compareTo()"
   ]
  },
  {
   "cell_type": "markdown",
   "id": "615370fe",
   "metadata": {},
   "source": [
    "The compareTo() method compares the enum constants based on their ordinal value."
   ]
  },
  {
   "cell_type": "code",
   "execution_count": 49,
   "id": "4f98ba86",
   "metadata": {},
   "outputs": [
    {
     "name": "stdout",
     "output_type": "stream",
     "text": [
      "-1\r\n"
     ]
    }
   ],
   "source": [
    "System.out.println( CarSize.SMALL.compareTo(CarSize.MEDIUM) );"
   ]
  },
  {
   "cell_type": "markdown",
   "id": "534a6275",
   "metadata": {},
   "source": [
    "###  toString()"
   ]
  },
  {
   "cell_type": "markdown",
   "id": "839dae7d",
   "metadata": {},
   "source": [
    "The toString() method returns the string representation of the enum constants."
   ]
  },
  {
   "cell_type": "code",
   "execution_count": 50,
   "id": "1c78e3e7",
   "metadata": {},
   "outputs": [
    {
     "name": "stdout",
     "output_type": "stream",
     "text": [
      "SMALL\r\n"
     ]
    }
   ],
   "source": [
    "System.out.println(  CarSize.SMALL.toString() );"
   ]
  },
  {
   "cell_type": "markdown",
   "id": "24f53b88",
   "metadata": {},
   "source": [
    "### name()"
   ]
  },
  {
   "cell_type": "markdown",
   "id": "e69756e3",
   "metadata": {},
   "source": [
    "The name() method returns the defined name of an enum constant in string form. The returned value from the name() method is final. "
   ]
  },
  {
   "cell_type": "code",
   "execution_count": 51,
   "id": "5f7d8cf9",
   "metadata": {},
   "outputs": [
    {
     "name": "stdout",
     "output_type": "stream",
     "text": [
      "SMALL\r\n"
     ]
    }
   ],
   "source": [
    "System.out.println(  CarSize.SMALL.name() );"
   ]
  },
  {
   "cell_type": "markdown",
   "id": "1096215e",
   "metadata": {},
   "source": [
    "### valueOf()"
   ]
  },
  {
   "cell_type": "markdown",
   "id": "e1d18254",
   "metadata": {},
   "source": [
    "The valueOf() method takes a string and returns an enum constant having the same string name."
   ]
  },
  {
   "cell_type": "code",
   "execution_count": 52,
   "id": "29d29c01",
   "metadata": {},
   "outputs": [
    {
     "name": "stdout",
     "output_type": "stream",
     "text": [
      "SMALL\r\n"
     ]
    }
   ],
   "source": [
    "System.out.println(  CarSize.valueOf(\"SMALL\") );"
   ]
  },
  {
   "cell_type": "markdown",
   "id": "ec84f3f2",
   "metadata": {},
   "source": [
    "### values() "
   ]
  },
  {
   "cell_type": "markdown",
   "id": "22840fed",
   "metadata": {},
   "source": [
    "The values() method returns an array of enum type containing all the enum constants."
   ]
  },
  {
   "cell_type": "code",
   "execution_count": 53,
   "id": "b38eecfc",
   "metadata": {},
   "outputs": [],
   "source": [
    "CarSize[] enumArray = CarSize.values();"
   ]
  },
  {
   "cell_type": "code",
   "execution_count": 54,
   "id": "7f59642e",
   "metadata": {},
   "outputs": [
    {
     "name": "stdout",
     "output_type": "stream",
     "text": [
      "SMALL at index 0\n",
      "MEDIUM at index 1\n",
      "LARGE at index 2\n",
      "EXTRALARGE at index 3\n"
     ]
    }
   ],
   "source": [
    "  for (CarSize item : enumArray) {\n",
    "    System.out.println( item + \" at index \"+ item.ordinal() );\n",
    "}"
   ]
  },
  {
   "cell_type": "markdown",
   "id": "6339af71",
   "metadata": {},
   "source": [
    "# Comparing Enum Types Using “==” Operator"
   ]
  },
  {
   "cell_type": "markdown",
   "id": "14243083",
   "metadata": {},
   "source": [
    "Since enum types ensure that only one instance of the constants exist in the JVM, we can safely use the “==” operator to compare two variables, like we did in the above example. Furthermore, the “==” operator provides compile-time and run-time safety."
   ]
  },
  {
   "cell_type": "code",
   "execution_count": 55,
   "id": "a5b47efc",
   "metadata": {},
   "outputs": [
    {
     "name": "stdout",
     "output_type": "stream",
     "text": [
      "true\r\n"
     ]
    }
   ],
   "source": [
    "System.out.println(  CarSize.SMALL == CarSize.SMALL );"
   ]
  },
  {
   "cell_type": "code",
   "execution_count": 56,
   "id": "9a87ecd3",
   "metadata": {},
   "outputs": [
    {
     "name": "stdout",
     "output_type": "stream",
     "text": [
      "true\r\n"
     ]
    }
   ],
   "source": [
    "System.out.println(  CarSize.SMALL.equals(CarSize.SMALL) );"
   ]
  },
  {
   "cell_type": "markdown",
   "id": "fd26d7a4",
   "metadata": {},
   "source": [
    "# Enum Methods"
   ]
  },
  {
   "cell_type": "markdown",
   "id": "7975deae",
   "metadata": {},
   "source": [
    "You can add methods to a Java enum too."
   ]
  },
  {
   "cell_type": "code",
   "execution_count": 57,
   "id": "a29806b1",
   "metadata": {},
   "outputs": [],
   "source": [
    "public enum Level {\n",
    "    HIGH  (3),  //calls constructor with value 3\n",
    "    MEDIUM(2),  //calls constructor with value 2\n",
    "    LOW   (1)   //calls constructor with value 1\n",
    "    ; // semicolon needed when fields / methods follow\n",
    "\n",
    "\n",
    "    private final int levelCode;\n",
    "\n",
    "    Level(int levelCode) {\n",
    "        this.levelCode = levelCode;\n",
    "    }\n",
    "    \n",
    "    public int getLevelCode() {\n",
    "        return this.levelCode;\n",
    "    }\n",
    "    \n",
    "}"
   ]
  },
  {
   "cell_type": "markdown",
   "id": "cb911710",
   "metadata": {},
   "source": [
    "You call a Java enum method via a reference to one of the constant values."
   ]
  },
  {
   "cell_type": "code",
   "execution_count": 58,
   "id": "02d10110",
   "metadata": {},
   "outputs": [
    {
     "name": "stdout",
     "output_type": "stream",
     "text": [
      "3\r\n"
     ]
    }
   ],
   "source": [
    "Level level = Level.HIGH;\n",
    "\n",
    "System.out.println(level.getLevelCode());"
   ]
  },
  {
   "cell_type": "code",
   "execution_count": 59,
   "id": "3224f69b",
   "metadata": {},
   "outputs": [
    {
     "name": "stdout",
     "output_type": "stream",
     "text": [
      "HIGH\n",
      "MEDIUM\n",
      "LOW\n"
     ]
    }
   ],
   "source": [
    "for (Level level : Level.values()) {\n",
    "    System.out.println(level);\n",
    "}"
   ]
  },
  {
   "cell_type": "markdown",
   "id": "b982412f",
   "metadata": {},
   "source": [
    "# Enum Abstract Methods"
   ]
  },
  {
   "cell_type": "markdown",
   "id": "c92325b1",
   "metadata": {},
   "source": [
    "It is possible for a Java enum class to have abstract methods too. If an enum class has an abstract method, then each instance of the enum class must implement it. "
   ]
  },
  {
   "cell_type": "code",
   "execution_count": 60,
   "id": "46c5f1eb",
   "metadata": {},
   "outputs": [],
   "source": [
    "public enum AlertLevel {\n",
    "    HIGH{\n",
    "        @Override\n",
    "        public String asLowerCase() {\n",
    "            return HIGH.toString().toLowerCase();\n",
    "        }\n",
    "    },\n",
    "    MEDIUM{\n",
    "        @Override\n",
    "        public String asLowerCase() {\n",
    "            return MEDIUM.toString().toLowerCase();\n",
    "        }\n",
    "    },\n",
    "    LOW{\n",
    "        @Override\n",
    "        public String asLowerCase() {\n",
    "            return LOW.toString().toLowerCase();\n",
    "        }\n",
    "    };\n",
    "\n",
    "    public abstract String asLowerCase();\n",
    "}"
   ]
  },
  {
   "cell_type": "code",
   "execution_count": 61,
   "id": "58452ca2",
   "metadata": {},
   "outputs": [
    {
     "name": "stdout",
     "output_type": "stream",
     "text": [
      "high\r\n"
     ]
    }
   ],
   "source": [
    "AlertLevel alertLevel = AlertLevel.HIGH;\n",
    "\n",
    "System.out.println(alertLevel.asLowerCase());"
   ]
  },
  {
   "cell_type": "markdown",
   "id": "9802e04c",
   "metadata": {},
   "source": [
    "# Enum Implementing Interface"
   ]
  },
  {
   "cell_type": "markdown",
   "id": "85173099",
   "metadata": {},
   "source": [
    "Defining an abstract method"
   ]
  },
  {
   "cell_type": "code",
   "execution_count": 62,
   "id": "d6fd47e2",
   "metadata": {},
   "outputs": [],
   "source": [
    "interface week {\n",
    "  \n",
    "    public int day();\n",
    "}"
   ]
  },
  {
   "cell_type": "markdown",
   "id": "f6885e60",
   "metadata": {},
   "source": [
    "Initializing an enum which implements the above interface. Initializing the possible days"
   ]
  },
  {
   "cell_type": "code",
   "execution_count": 63,
   "id": "8fc4cf24",
   "metadata": {},
   "outputs": [],
   "source": [
    "enum Day implements week {\n",
    "\n",
    "    Monday,\n",
    "    Tuesday,\n",
    "    Wednesday,\n",
    "    Thursday,\n",
    "    Friday,\n",
    "    Saturday,\n",
    "    Sunday;\n",
    "  \n",
    "    public int day()\n",
    "    {\n",
    "        return ordinal() + 1;\n",
    "    }\n",
    "}"
   ]
  },
  {
   "cell_type": "code",
   "execution_count": 64,
   "id": "f021d63e",
   "metadata": {},
   "outputs": [
    {
     "name": "stdout",
     "output_type": "stream",
     "text": [
      "It is day number 3 of a week.\r\n"
     ]
    }
   ],
   "source": [
    "System.out.println(\"It is day number \" + Day.Wednesday.day() + \" of a week.\");"
   ]
  },
  {
   "cell_type": "markdown",
   "id": "1d33a54d",
   "metadata": {},
   "source": [
    "# EnumSet"
   ]
  },
  {
   "cell_type": "markdown",
   "id": "23f20271",
   "metadata": {},
   "source": [
    "Java contains a special Java Set implementation called EnumSet which can hold enums more efficiently than the standard Java Set implementations. The rest of the operations work in the exact same way as any other Set implementation and there is no difference in how to use them."
   ]
  },
  {
   "cell_type": "code",
   "execution_count": 65,
   "id": "414957a2",
   "metadata": {},
   "outputs": [],
   "source": [
    "public enum Color {\n",
    "    RED, YELLOW, GREEN, BLUE, BLACK, WHITE\n",
    "}"
   ]
  },
  {
   "cell_type": "code",
   "execution_count": 66,
   "id": "ab8655b2",
   "metadata": {},
   "outputs": [
    {
     "data": {
      "text/plain": [
       "true"
      ]
     },
     "execution_count": 66,
     "metadata": {},
     "output_type": "execute_result"
    }
   ],
   "source": [
    "EnumSet<Color> set = EnumSet.noneOf(Color.class);\n",
    "set.add(Color.RED);\n",
    "set.add(Color.YELLOW)"
   ]
  },
  {
   "cell_type": "markdown",
   "id": "3988a176",
   "metadata": {},
   "source": [
    "Check if the collection contains a specific element:"
   ]
  },
  {
   "cell_type": "code",
   "execution_count": 67,
   "id": "ca6b9045",
   "metadata": {},
   "outputs": [
    {
     "data": {
      "text/plain": [
       "true"
      ]
     },
     "execution_count": 67,
     "metadata": {},
     "output_type": "execute_result"
    }
   ],
   "source": [
    "set.contains(Color.RED);"
   ]
  },
  {
   "cell_type": "markdown",
   "id": "d2a95277",
   "metadata": {},
   "source": [
    "Iterate over the elements:"
   ]
  },
  {
   "cell_type": "code",
   "execution_count": 68,
   "id": "eb6f389e",
   "metadata": {},
   "outputs": [
    {
     "name": "stdout",
     "output_type": "stream",
     "text": [
      "RED\n",
      "YELLOW\n"
     ]
    }
   ],
   "source": [
    "set.forEach(System.out::println);"
   ]
  },
  {
   "cell_type": "markdown",
   "id": "6f4a30bd",
   "metadata": {},
   "source": [
    "# EnumMap"
   ]
  },
  {
   "cell_type": "code",
   "execution_count": 69,
   "id": "578cbd6f",
   "metadata": {},
   "outputs": [],
   "source": [
    "EnumMap<Level, String> enumMap = new EnumMap<Level, String>(Level.class);"
   ]
  },
  {
   "cell_type": "code",
   "execution_count": 70,
   "id": "627f1280",
   "metadata": {},
   "outputs": [],
   "source": [
    "enumMap.put(Level.HIGH  , \"High level\");\n",
    "enumMap.put(Level.MEDIUM, \"Medium level\");\n",
    "enumMap.put(Level.LOW   , \"Low level\");"
   ]
  },
  {
   "cell_type": "code",
   "execution_count": 71,
   "id": "8cb5b9e1",
   "metadata": {},
   "outputs": [
    {
     "name": "stdout",
     "output_type": "stream",
     "text": [
      "High level\r\n"
     ]
    }
   ],
   "source": [
    "System.out.println( enumMap.get(Level.HIGH) );"
   ]
  }
 ],
 "metadata": {
  "kernelspec": {
   "display_name": "Java",
   "language": "java",
   "name": "java"
  },
  "language_info": {
   "codemirror_mode": "java",
   "file_extension": ".jshell",
   "mimetype": "text/x-java-source",
   "name": "Java",
   "pygments_lexer": "java",
   "version": "12.0.2+10"
  }
 },
 "nbformat": 4,
 "nbformat_minor": 5
}
