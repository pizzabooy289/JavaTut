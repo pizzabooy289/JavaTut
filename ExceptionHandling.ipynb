{
 "cells": [
  {
   "cell_type": "markdown",
   "id": "0259e458",
   "metadata": {},
   "source": [
    "# Exception Class"
   ]
  },
  {
   "cell_type": "markdown",
   "id": "8f701975",
   "metadata": {},
   "source": [
    "Java Exception Handling is a mechanism to handle runtime errors such as ClassNotFoundException, IOException, SQLException, RemoteException, etc. Exception is an unwanted or unexpected event, which occurs during the execution of a program, i.e. at run time, that disrupts the normal flow of the program's instructions."
   ]
  },
  {
   "cell_type": "markdown",
   "id": "30efc438",
   "metadata": {},
   "source": [
    "Defining the exception class."
   ]
  },
  {
   "cell_type": "code",
   "execution_count": 8,
   "id": "7d39ce7e",
   "metadata": {},
   "outputs": [],
   "source": [
    "public class DivideByZeroException extends ArithmeticException {\n",
    "\n",
    "    private static final long serialVersionUID = 1L;\n",
    "\n",
    "    public DivideByZeroException(){\n",
    "        super (\"Attempted to divide by zero\");\n",
    "    }\n",
    "\n",
    "}"
   ]
  },
  {
   "cell_type": "markdown",
   "id": "238c1a9c",
   "metadata": {},
   "source": [
    "# Throwing the Exception "
   ]
  },
  {
   "cell_type": "markdown",
   "id": "a4354fe5",
   "metadata": {},
   "source": [
    "In the Math class using the DivideByZeroException"
   ]
  },
  {
   "cell_type": "code",
   "execution_count": 10,
   "id": "77470c12",
   "metadata": {},
   "outputs": [],
   "source": [
    "public class Math {\n",
    "\n",
    "    public Math(){\n",
    "    }\n",
    "\n",
    "    public double divide(double numerater, double denominater)throws DivideByZeroException{\n",
    "        if(denominater == 0){\n",
    "            throw new DivideByZeroException();\n",
    "        }\n",
    "\n",
    "        return numerater/denominater;\n",
    "    }\n",
    "\n",
    "\n",
    "}"
   ]
  },
  {
   "cell_type": "markdown",
   "id": "cba51d69",
   "metadata": {},
   "source": [
    "# Example NOT Throwing Exception"
   ]
  },
  {
   "cell_type": "code",
   "execution_count": 11,
   "id": "2cb83cbd",
   "metadata": {},
   "outputs": [
    {
     "name": "stdout",
     "output_type": "stream",
     "text": [
      "Result : 1.0\n"
     ]
    }
   ],
   "source": [
    "Math math = new Math();\n",
    "\n",
    "try{\n",
    "\n",
    "        double result = math.divide(1, 1);\n",
    "\n",
    "        System.out.println(\"Result : \" + result);\n",
    "\n",
    "}catch(DivideByZeroException error){\n",
    "\n",
    "        System.out.println( error.getMessage() );\n",
    "}"
   ]
  },
  {
   "cell_type": "markdown",
   "id": "d916fb94",
   "metadata": {},
   "source": [
    "# Example Throwing Exception"
   ]
  },
  {
   "cell_type": "code",
   "execution_count": 12,
   "id": "ae3cd42f",
   "metadata": {},
   "outputs": [
    {
     "name": "stdout",
     "output_type": "stream",
     "text": [
      "Attempted to divide by zero\n"
     ]
    }
   ],
   "source": [
    "try{\n",
    "\n",
    "        double result = math.divide(1, 0);\n",
    "\n",
    "        System.out.println(\"Result : \" + result);\n",
    "\n",
    "}catch(DivideByZeroException error){\n",
    "\n",
    "        System.out.println(error.getMessage() );\n",
    "}"
   ]
  }
 ],
 "metadata": {
  "kernelspec": {
   "display_name": "Java",
   "language": "java",
   "name": "java"
  },
  "language_info": {
   "codemirror_mode": "java",
   "file_extension": ".jshell",
   "mimetype": "text/x-java-source",
   "name": "Java",
   "pygments_lexer": "java",
   "version": "12.0.2+10"
  }
 },
 "nbformat": 4,
 "nbformat_minor": 5
}
